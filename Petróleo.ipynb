{
 "cells": [
  {
   "cell_type": "markdown",
   "metadata": {},
   "source": [
    "# Proyecto OilyGiant"
   ]
  },
  {
   "cell_type": "markdown",
   "metadata": {},
   "source": [
    "<a id='introduccion'></a>\n",
    "## Introducción"
   ]
  },
  {
   "cell_type": "markdown",
   "metadata": {},
   "source": [
    "La compañía de extracción de petróleo OilyGiant se encuentra en la búsqueda de los mejores lugares para la apertura de 200 nuevos pozos de petróleo. Para lograr este objetivo, en este estudio se procederá a la lectura de los archivos que contienen los parámetros recopilados de los pozos petrolíferos en la región seleccionada, los cuales incluyen información sobre la calidad del crudo y el volumen de reservas. Posteriormente, se desarrollará un modelo predictivo para estimar el volumen de reservas en los nuevos pozos, con el objetivo de seleccionar aquellos que presenten los valores estimados más favorables. Finalmente, se tomará la decisión estratégica de elegir la región que ofrezca el beneficio total más alto para los pozos petrolíferos seleccionados, en aras de maximizar la rentabilidad y eficiencia en las operaciones de extracción de petróleo.\n",
    "\n",
    "[Volver al inicio](#contenido)"
   ]
  },
  {
   "cell_type": "markdown",
   "metadata": {},
   "source": [
    "<a id='preparacion'></a>\n",
    "## Preparación de datos"
   ]
  },
  {
   "cell_type": "code",
   "execution_count": 1,
   "metadata": {},
   "outputs": [],
   "source": [
    "import pandas as pd\n",
    "import numpy as np\n",
    "\n",
    "from scipy import stats as st\n",
    "from sklearn.linear_model import LinearRegression\n",
    "from sklearn.model_selection import train_test_split\n",
    "from sklearn.metrics import mean_squared_error\n",
    "from sklearn.utils import shuffle\n",
    "\n",
    "from IPython.display import display"
   ]
  },
  {
   "cell_type": "markdown",
   "metadata": {},
   "source": [
    "Los datos de exploración geológica de las tres regiones se almacenan en archivos:"
   ]
  },
  {
   "cell_type": "code",
   "execution_count": 2,
   "metadata": {},
   "outputs": [],
   "source": [
    "# Carga de datos\n",
    "try:\n",
    "    zone_a = pd.read_csv('https://practicum-content.s3.us-west-1.amazonaws.com/datasets/geo_data_0.csv')\n",
    "    zone_b = pd.read_csv('https://practicum-content.s3.us-west-1.amazonaws.com/datasets/geo_data_1.csv')\n",
    "    zone_c = pd.read_csv('https://practicum-content.s3.us-west-1.amazonaws.com/datasets/geo_data_2.csv')\n",
    "\n",
    "except:\n",
    "    zone_a = pd.read_csv('geo_data_0.csv')\n",
    "    zone_b = pd.read_csv('geo_data_1.csv')\n",
    "    zone_c = pd.read_csv('geo_data_2.csv')"
   ]
  },
  {
   "cell_type": "markdown",
   "metadata": {},
   "source": [
    "<div class=\"alert alert-block alert-success\">\n",
    "<b>Comentario del revisor.</b> <a class=\"tocSkip\"></a>\n",
    "\n",
    "Excelente importación de las librerías, y a la vez muy bien importados los datos manteniéndolos separados de las importaciones!"
   ]
  },
  {
   "cell_type": "markdown",
   "metadata": {},
   "source": [
    "**Características de los dataframes:**\n",
    "\n",
    "* `id` — identificador' único de pozo de petróleo\n",
    "* `f0, f1, f2` — tres características de los puntos\n",
    "* `product` — volumen de reservas en el pozo de petróleo (miles de barriles)."
   ]
  },
  {
   "cell_type": "code",
   "execution_count": 4,
   "metadata": {},
   "outputs": [],
   "source": [
    "# Muestra de datos\n",
    "\n",
    "def preview(df):\n",
    "    df.info()\n",
    "    print('\\nNúmero de filas duplicadas:', df.duplicated().sum())\n",
    "    display(df.describe(percentiles=[]).round(3))\n",
    "    display(df.head())"
   ]
  },
  {
   "cell_type": "code",
   "execution_count": 5,
   "metadata": {},
   "outputs": [
    {
     "name": "stdout",
     "output_type": "stream",
     "text": [
      "<class 'pandas.core.frame.DataFrame'>\n",
      "RangeIndex: 100000 entries, 0 to 99999\n",
      "Data columns (total 5 columns):\n",
      " #   Column   Non-Null Count   Dtype  \n",
      "---  ------   --------------   -----  \n",
      " 0   id       100000 non-null  object \n",
      " 1   f0       100000 non-null  float64\n",
      " 2   f1       100000 non-null  float64\n",
      " 3   f2       100000 non-null  float64\n",
      " 4   product  100000 non-null  float64\n",
      "dtypes: float64(4), object(1)\n",
      "memory usage: 3.8+ MB\n",
      "\n",
      "Número de filas duplicadas: 0\n"
     ]
    },
    {
     "data": {
      "text/html": [
       "<div>\n",
       "<style scoped>\n",
       "    .dataframe tbody tr th:only-of-type {\n",
       "        vertical-align: middle;\n",
       "    }\n",
       "\n",
       "    .dataframe tbody tr th {\n",
       "        vertical-align: top;\n",
       "    }\n",
       "\n",
       "    .dataframe thead th {\n",
       "        text-align: right;\n",
       "    }\n",
       "</style>\n",
       "<table border=\"1\" class=\"dataframe\">\n",
       "  <thead>\n",
       "    <tr style=\"text-align: right;\">\n",
       "      <th></th>\n",
       "      <th>f0</th>\n",
       "      <th>f1</th>\n",
       "      <th>f2</th>\n",
       "      <th>product</th>\n",
       "    </tr>\n",
       "  </thead>\n",
       "  <tbody>\n",
       "    <tr>\n",
       "      <th>count</th>\n",
       "      <td>100000.000</td>\n",
       "      <td>100000.000</td>\n",
       "      <td>100000.000</td>\n",
       "      <td>100000.000</td>\n",
       "    </tr>\n",
       "    <tr>\n",
       "      <th>mean</th>\n",
       "      <td>0.500</td>\n",
       "      <td>0.250</td>\n",
       "      <td>2.503</td>\n",
       "      <td>92.500</td>\n",
       "    </tr>\n",
       "    <tr>\n",
       "      <th>std</th>\n",
       "      <td>0.872</td>\n",
       "      <td>0.504</td>\n",
       "      <td>3.248</td>\n",
       "      <td>44.289</td>\n",
       "    </tr>\n",
       "    <tr>\n",
       "      <th>min</th>\n",
       "      <td>-1.409</td>\n",
       "      <td>-0.848</td>\n",
       "      <td>-12.088</td>\n",
       "      <td>0.000</td>\n",
       "    </tr>\n",
       "    <tr>\n",
       "      <th>50%</th>\n",
       "      <td>0.502</td>\n",
       "      <td>0.250</td>\n",
       "      <td>2.516</td>\n",
       "      <td>91.850</td>\n",
       "    </tr>\n",
       "    <tr>\n",
       "      <th>max</th>\n",
       "      <td>2.362</td>\n",
       "      <td>1.344</td>\n",
       "      <td>16.004</td>\n",
       "      <td>185.364</td>\n",
       "    </tr>\n",
       "  </tbody>\n",
       "</table>\n",
       "</div>"
      ],
      "text/plain": [
       "               f0          f1          f2     product\n",
       "count  100000.000  100000.000  100000.000  100000.000\n",
       "mean        0.500       0.250       2.503      92.500\n",
       "std         0.872       0.504       3.248      44.289\n",
       "min        -1.409      -0.848     -12.088       0.000\n",
       "50%         0.502       0.250       2.516      91.850\n",
       "max         2.362       1.344      16.004     185.364"
      ]
     },
     "metadata": {},
     "output_type": "display_data"
    },
    {
     "data": {
      "text/html": [
       "<div>\n",
       "<style scoped>\n",
       "    .dataframe tbody tr th:only-of-type {\n",
       "        vertical-align: middle;\n",
       "    }\n",
       "\n",
       "    .dataframe tbody tr th {\n",
       "        vertical-align: top;\n",
       "    }\n",
       "\n",
       "    .dataframe thead th {\n",
       "        text-align: right;\n",
       "    }\n",
       "</style>\n",
       "<table border=\"1\" class=\"dataframe\">\n",
       "  <thead>\n",
       "    <tr style=\"text-align: right;\">\n",
       "      <th></th>\n",
       "      <th>id</th>\n",
       "      <th>f0</th>\n",
       "      <th>f1</th>\n",
       "      <th>f2</th>\n",
       "      <th>product</th>\n",
       "    </tr>\n",
       "  </thead>\n",
       "  <tbody>\n",
       "    <tr>\n",
       "      <th>0</th>\n",
       "      <td>txEyH</td>\n",
       "      <td>0.705745</td>\n",
       "      <td>-0.497823</td>\n",
       "      <td>1.221170</td>\n",
       "      <td>105.280062</td>\n",
       "    </tr>\n",
       "    <tr>\n",
       "      <th>1</th>\n",
       "      <td>2acmU</td>\n",
       "      <td>1.334711</td>\n",
       "      <td>-0.340164</td>\n",
       "      <td>4.365080</td>\n",
       "      <td>73.037750</td>\n",
       "    </tr>\n",
       "    <tr>\n",
       "      <th>2</th>\n",
       "      <td>409Wp</td>\n",
       "      <td>1.022732</td>\n",
       "      <td>0.151990</td>\n",
       "      <td>1.419926</td>\n",
       "      <td>85.265647</td>\n",
       "    </tr>\n",
       "    <tr>\n",
       "      <th>3</th>\n",
       "      <td>iJLyR</td>\n",
       "      <td>-0.032172</td>\n",
       "      <td>0.139033</td>\n",
       "      <td>2.978566</td>\n",
       "      <td>168.620776</td>\n",
       "    </tr>\n",
       "    <tr>\n",
       "      <th>4</th>\n",
       "      <td>Xdl7t</td>\n",
       "      <td>1.988431</td>\n",
       "      <td>0.155413</td>\n",
       "      <td>4.751769</td>\n",
       "      <td>154.036647</td>\n",
       "    </tr>\n",
       "  </tbody>\n",
       "</table>\n",
       "</div>"
      ],
      "text/plain": [
       "      id        f0        f1        f2     product\n",
       "0  txEyH  0.705745 -0.497823  1.221170  105.280062\n",
       "1  2acmU  1.334711 -0.340164  4.365080   73.037750\n",
       "2  409Wp  1.022732  0.151990  1.419926   85.265647\n",
       "3  iJLyR -0.032172  0.139033  2.978566  168.620776\n",
       "4  Xdl7t  1.988431  0.155413  4.751769  154.036647"
      ]
     },
     "metadata": {},
     "output_type": "display_data"
    }
   ],
   "source": [
    "preview(zone_a)"
   ]
  },
  {
   "cell_type": "markdown",
   "metadata": {},
   "source": [
    "El df de la **Zona A** cuenta con 100,000 observaciones. No se encontraron datos ausentes ni observaciones repetidas."
   ]
  },
  {
   "cell_type": "code",
   "execution_count": 6,
   "metadata": {},
   "outputs": [
    {
     "name": "stdout",
     "output_type": "stream",
     "text": [
      "<class 'pandas.core.frame.DataFrame'>\n",
      "RangeIndex: 100000 entries, 0 to 99999\n",
      "Data columns (total 5 columns):\n",
      " #   Column   Non-Null Count   Dtype  \n",
      "---  ------   --------------   -----  \n",
      " 0   id       100000 non-null  object \n",
      " 1   f0       100000 non-null  float64\n",
      " 2   f1       100000 non-null  float64\n",
      " 3   f2       100000 non-null  float64\n",
      " 4   product  100000 non-null  float64\n",
      "dtypes: float64(4), object(1)\n",
      "memory usage: 3.8+ MB\n",
      "\n",
      "Número de filas duplicadas: 0\n"
     ]
    },
    {
     "data": {
      "text/html": [
       "<div>\n",
       "<style scoped>\n",
       "    .dataframe tbody tr th:only-of-type {\n",
       "        vertical-align: middle;\n",
       "    }\n",
       "\n",
       "    .dataframe tbody tr th {\n",
       "        vertical-align: top;\n",
       "    }\n",
       "\n",
       "    .dataframe thead th {\n",
       "        text-align: right;\n",
       "    }\n",
       "</style>\n",
       "<table border=\"1\" class=\"dataframe\">\n",
       "  <thead>\n",
       "    <tr style=\"text-align: right;\">\n",
       "      <th></th>\n",
       "      <th>f0</th>\n",
       "      <th>f1</th>\n",
       "      <th>f2</th>\n",
       "      <th>product</th>\n",
       "    </tr>\n",
       "  </thead>\n",
       "  <tbody>\n",
       "    <tr>\n",
       "      <th>count</th>\n",
       "      <td>100000.000</td>\n",
       "      <td>100000.000</td>\n",
       "      <td>100000.000</td>\n",
       "      <td>100000.000</td>\n",
       "    </tr>\n",
       "    <tr>\n",
       "      <th>mean</th>\n",
       "      <td>1.141</td>\n",
       "      <td>-4.797</td>\n",
       "      <td>2.495</td>\n",
       "      <td>68.825</td>\n",
       "    </tr>\n",
       "    <tr>\n",
       "      <th>std</th>\n",
       "      <td>8.966</td>\n",
       "      <td>5.120</td>\n",
       "      <td>1.704</td>\n",
       "      <td>45.944</td>\n",
       "    </tr>\n",
       "    <tr>\n",
       "      <th>min</th>\n",
       "      <td>-31.610</td>\n",
       "      <td>-26.359</td>\n",
       "      <td>-0.018</td>\n",
       "      <td>0.000</td>\n",
       "    </tr>\n",
       "    <tr>\n",
       "      <th>50%</th>\n",
       "      <td>1.153</td>\n",
       "      <td>-4.813</td>\n",
       "      <td>2.011</td>\n",
       "      <td>57.086</td>\n",
       "    </tr>\n",
       "    <tr>\n",
       "      <th>max</th>\n",
       "      <td>29.422</td>\n",
       "      <td>18.734</td>\n",
       "      <td>5.020</td>\n",
       "      <td>137.945</td>\n",
       "    </tr>\n",
       "  </tbody>\n",
       "</table>\n",
       "</div>"
      ],
      "text/plain": [
       "               f0          f1          f2     product\n",
       "count  100000.000  100000.000  100000.000  100000.000\n",
       "mean        1.141      -4.797       2.495      68.825\n",
       "std         8.966       5.120       1.704      45.944\n",
       "min       -31.610     -26.359      -0.018       0.000\n",
       "50%         1.153      -4.813       2.011      57.086\n",
       "max        29.422      18.734       5.020     137.945"
      ]
     },
     "metadata": {},
     "output_type": "display_data"
    },
    {
     "data": {
      "text/html": [
       "<div>\n",
       "<style scoped>\n",
       "    .dataframe tbody tr th:only-of-type {\n",
       "        vertical-align: middle;\n",
       "    }\n",
       "\n",
       "    .dataframe tbody tr th {\n",
       "        vertical-align: top;\n",
       "    }\n",
       "\n",
       "    .dataframe thead th {\n",
       "        text-align: right;\n",
       "    }\n",
       "</style>\n",
       "<table border=\"1\" class=\"dataframe\">\n",
       "  <thead>\n",
       "    <tr style=\"text-align: right;\">\n",
       "      <th></th>\n",
       "      <th>id</th>\n",
       "      <th>f0</th>\n",
       "      <th>f1</th>\n",
       "      <th>f2</th>\n",
       "      <th>product</th>\n",
       "    </tr>\n",
       "  </thead>\n",
       "  <tbody>\n",
       "    <tr>\n",
       "      <th>0</th>\n",
       "      <td>kBEdx</td>\n",
       "      <td>-15.001348</td>\n",
       "      <td>-8.276000</td>\n",
       "      <td>-0.005876</td>\n",
       "      <td>3.179103</td>\n",
       "    </tr>\n",
       "    <tr>\n",
       "      <th>1</th>\n",
       "      <td>62mP7</td>\n",
       "      <td>14.272088</td>\n",
       "      <td>-3.475083</td>\n",
       "      <td>0.999183</td>\n",
       "      <td>26.953261</td>\n",
       "    </tr>\n",
       "    <tr>\n",
       "      <th>2</th>\n",
       "      <td>vyE1P</td>\n",
       "      <td>6.263187</td>\n",
       "      <td>-5.948386</td>\n",
       "      <td>5.001160</td>\n",
       "      <td>134.766305</td>\n",
       "    </tr>\n",
       "    <tr>\n",
       "      <th>3</th>\n",
       "      <td>KcrkZ</td>\n",
       "      <td>-13.081196</td>\n",
       "      <td>-11.506057</td>\n",
       "      <td>4.999415</td>\n",
       "      <td>137.945408</td>\n",
       "    </tr>\n",
       "    <tr>\n",
       "      <th>4</th>\n",
       "      <td>AHL4O</td>\n",
       "      <td>12.702195</td>\n",
       "      <td>-8.147433</td>\n",
       "      <td>5.004363</td>\n",
       "      <td>134.766305</td>\n",
       "    </tr>\n",
       "  </tbody>\n",
       "</table>\n",
       "</div>"
      ],
      "text/plain": [
       "      id         f0         f1        f2     product\n",
       "0  kBEdx -15.001348  -8.276000 -0.005876    3.179103\n",
       "1  62mP7  14.272088  -3.475083  0.999183   26.953261\n",
       "2  vyE1P   6.263187  -5.948386  5.001160  134.766305\n",
       "3  KcrkZ -13.081196 -11.506057  4.999415  137.945408\n",
       "4  AHL4O  12.702195  -8.147433  5.004363  134.766305"
      ]
     },
     "metadata": {},
     "output_type": "display_data"
    }
   ],
   "source": [
    "preview(zone_b)"
   ]
  },
  {
   "cell_type": "markdown",
   "metadata": {},
   "source": [
    "El df de la **Zona B** cuenta con 100,000 observaciones. No se encontraron datos ausentes ni observaciones repetidas."
   ]
  },
  {
   "cell_type": "code",
   "execution_count": 7,
   "metadata": {},
   "outputs": [
    {
     "name": "stdout",
     "output_type": "stream",
     "text": [
      "<class 'pandas.core.frame.DataFrame'>\n",
      "RangeIndex: 100000 entries, 0 to 99999\n",
      "Data columns (total 5 columns):\n",
      " #   Column   Non-Null Count   Dtype  \n",
      "---  ------   --------------   -----  \n",
      " 0   id       100000 non-null  object \n",
      " 1   f0       100000 non-null  float64\n",
      " 2   f1       100000 non-null  float64\n",
      " 3   f2       100000 non-null  float64\n",
      " 4   product  100000 non-null  float64\n",
      "dtypes: float64(4), object(1)\n",
      "memory usage: 3.8+ MB\n",
      "\n",
      "Número de filas duplicadas: 0\n"
     ]
    },
    {
     "data": {
      "text/html": [
       "<div>\n",
       "<style scoped>\n",
       "    .dataframe tbody tr th:only-of-type {\n",
       "        vertical-align: middle;\n",
       "    }\n",
       "\n",
       "    .dataframe tbody tr th {\n",
       "        vertical-align: top;\n",
       "    }\n",
       "\n",
       "    .dataframe thead th {\n",
       "        text-align: right;\n",
       "    }\n",
       "</style>\n",
       "<table border=\"1\" class=\"dataframe\">\n",
       "  <thead>\n",
       "    <tr style=\"text-align: right;\">\n",
       "      <th></th>\n",
       "      <th>f0</th>\n",
       "      <th>f1</th>\n",
       "      <th>f2</th>\n",
       "      <th>product</th>\n",
       "    </tr>\n",
       "  </thead>\n",
       "  <tbody>\n",
       "    <tr>\n",
       "      <th>count</th>\n",
       "      <td>100000.000</td>\n",
       "      <td>100000.000</td>\n",
       "      <td>100000.000</td>\n",
       "      <td>100000.000</td>\n",
       "    </tr>\n",
       "    <tr>\n",
       "      <th>mean</th>\n",
       "      <td>0.002</td>\n",
       "      <td>-0.002</td>\n",
       "      <td>2.495</td>\n",
       "      <td>95.000</td>\n",
       "    </tr>\n",
       "    <tr>\n",
       "      <th>std</th>\n",
       "      <td>1.732</td>\n",
       "      <td>1.730</td>\n",
       "      <td>3.473</td>\n",
       "      <td>44.750</td>\n",
       "    </tr>\n",
       "    <tr>\n",
       "      <th>min</th>\n",
       "      <td>-8.760</td>\n",
       "      <td>-7.084</td>\n",
       "      <td>-11.970</td>\n",
       "      <td>0.000</td>\n",
       "    </tr>\n",
       "    <tr>\n",
       "      <th>50%</th>\n",
       "      <td>0.009</td>\n",
       "      <td>-0.009</td>\n",
       "      <td>2.484</td>\n",
       "      <td>94.926</td>\n",
       "    </tr>\n",
       "    <tr>\n",
       "      <th>max</th>\n",
       "      <td>7.238</td>\n",
       "      <td>7.845</td>\n",
       "      <td>16.739</td>\n",
       "      <td>190.030</td>\n",
       "    </tr>\n",
       "  </tbody>\n",
       "</table>\n",
       "</div>"
      ],
      "text/plain": [
       "               f0          f1          f2     product\n",
       "count  100000.000  100000.000  100000.000  100000.000\n",
       "mean        0.002      -0.002       2.495      95.000\n",
       "std         1.732       1.730       3.473      44.750\n",
       "min        -8.760      -7.084     -11.970       0.000\n",
       "50%         0.009      -0.009       2.484      94.926\n",
       "max         7.238       7.845      16.739     190.030"
      ]
     },
     "metadata": {},
     "output_type": "display_data"
    },
    {
     "data": {
      "text/html": [
       "<div>\n",
       "<style scoped>\n",
       "    .dataframe tbody tr th:only-of-type {\n",
       "        vertical-align: middle;\n",
       "    }\n",
       "\n",
       "    .dataframe tbody tr th {\n",
       "        vertical-align: top;\n",
       "    }\n",
       "\n",
       "    .dataframe thead th {\n",
       "        text-align: right;\n",
       "    }\n",
       "</style>\n",
       "<table border=\"1\" class=\"dataframe\">\n",
       "  <thead>\n",
       "    <tr style=\"text-align: right;\">\n",
       "      <th></th>\n",
       "      <th>id</th>\n",
       "      <th>f0</th>\n",
       "      <th>f1</th>\n",
       "      <th>f2</th>\n",
       "      <th>product</th>\n",
       "    </tr>\n",
       "  </thead>\n",
       "  <tbody>\n",
       "    <tr>\n",
       "      <th>0</th>\n",
       "      <td>fwXo0</td>\n",
       "      <td>-1.146987</td>\n",
       "      <td>0.963328</td>\n",
       "      <td>-0.828965</td>\n",
       "      <td>27.758673</td>\n",
       "    </tr>\n",
       "    <tr>\n",
       "      <th>1</th>\n",
       "      <td>WJtFt</td>\n",
       "      <td>0.262778</td>\n",
       "      <td>0.269839</td>\n",
       "      <td>-2.530187</td>\n",
       "      <td>56.069697</td>\n",
       "    </tr>\n",
       "    <tr>\n",
       "      <th>2</th>\n",
       "      <td>ovLUW</td>\n",
       "      <td>0.194587</td>\n",
       "      <td>0.289035</td>\n",
       "      <td>-5.586433</td>\n",
       "      <td>62.871910</td>\n",
       "    </tr>\n",
       "    <tr>\n",
       "      <th>3</th>\n",
       "      <td>q6cA6</td>\n",
       "      <td>2.236060</td>\n",
       "      <td>-0.553760</td>\n",
       "      <td>0.930038</td>\n",
       "      <td>114.572842</td>\n",
       "    </tr>\n",
       "    <tr>\n",
       "      <th>4</th>\n",
       "      <td>WPMUX</td>\n",
       "      <td>-0.515993</td>\n",
       "      <td>1.716266</td>\n",
       "      <td>5.899011</td>\n",
       "      <td>149.600746</td>\n",
       "    </tr>\n",
       "  </tbody>\n",
       "</table>\n",
       "</div>"
      ],
      "text/plain": [
       "      id        f0        f1        f2     product\n",
       "0  fwXo0 -1.146987  0.963328 -0.828965   27.758673\n",
       "1  WJtFt  0.262778  0.269839 -2.530187   56.069697\n",
       "2  ovLUW  0.194587  0.289035 -5.586433   62.871910\n",
       "3  q6cA6  2.236060 -0.553760  0.930038  114.572842\n",
       "4  WPMUX -0.515993  1.716266  5.899011  149.600746"
      ]
     },
     "metadata": {},
     "output_type": "display_data"
    }
   ],
   "source": [
    "preview(zone_c)"
   ]
  },
  {
   "cell_type": "markdown",
   "metadata": {},
   "source": [
    "El df de la **Zona C** cuenta con 100,000 observaciones. No se encontraron datos ausentes ni observaciones repetidas.\n",
    "\n",
    "[Volver al inicio](#contenido)"
   ]
  },
  {
   "cell_type": "markdown",
   "metadata": {},
   "source": [
    "<div class=\"alert alert-block alert-success\">\n",
    "<b>Comentario del revisor.</b> <a class=\"tocSkip\"></a>\n",
    "\n",
    "Excelente implementación de los métodos para observar la composición de los datos! A la vez excelente corroboración de duplicados."
   ]
  },
  {
   "cell_type": "markdown",
   "metadata": {},
   "source": [
    "<a id='aplicacion'></a>\n",
    "## Aplicación de modelo de regresión lineal por zona"
   ]
  },
  {
   "cell_type": "markdown",
   "metadata": {},
   "source": [
    "En esta sección, se ha diseñado un modelo de regresión lineal que utilizará el 75% de los datos proporcionados de cada zona como datos de entrenamiento, reservando el 25% restante como datos de validación. Posteriormente, se presentarán el volumen medio de reservas predicho y el RECM del modelo."
   ]
  },
  {
   "cell_type": "code",
   "execution_count": 8,
   "metadata": {},
   "outputs": [],
   "source": [
    "def model(df, pred):\n",
    "    features = df.drop(['id','product'], axis=1)\n",
    "    target = df['product']\n",
    "\n",
    "    features_train, features_valid, target_train, target_valid = train_test_split(\n",
    "        features, target, test_size=0.25, random_state=12345)\n",
    "\n",
    "    model = LinearRegression()\n",
    "    model.fit(features_train, target_train)\n",
    "    predictions_valid = model.predict(features_valid)\n",
    "    result = mean_squared_error(target_valid, predictions_valid)**0.5\n",
    "    print (\"Volumen medio de reservas real:    \", target_valid.mean().round(2))\n",
    "    print (\"Volumen medio de reservas predicho:\", predictions_valid.mean().round(2))\n",
    "    print (\"RECM del modelo de regresión lineal en el conjunto de validación:\", result.round(2))\n",
    "    return pred.append(predictions_valid)"
   ]
  },
  {
   "cell_type": "markdown",
   "metadata": {},
   "source": [
    "<div class=\"alert alert-block alert-success\">\n",
    "<b>Comentario del revisor.</b> <a class=\"tocSkip\"></a>\n",
    "\n",
    "Aquí varias cosas bien hechas Alejandro, por un lado excelente al no tomar en cuenta la columna id que no nos aporta valor al modelo, por otro lado una excelente divisón de datos con su posterior entrenamiento y calculo de metrica, excelente!"
   ]
  },
  {
   "cell_type": "code",
   "execution_count": 9,
   "metadata": {
    "scrolled": true
   },
   "outputs": [
    {
     "name": "stdout",
     "output_type": "stream",
     "text": [
      "Volumen medio de reservas real:     92.08\n",
      "Volumen medio de reservas predicho: 92.59\n",
      "RECM del modelo de regresión lineal en el conjunto de validación: 37.58\n"
     ]
    }
   ],
   "source": [
    "pred_a = []\n",
    "model(zone_a, pred_a)"
   ]
  },
  {
   "cell_type": "markdown",
   "metadata": {},
   "source": [
    "Estos resultados indican que el modelo de regresión lineal ha logrado predecir con precisión el volumen medio de reservas, con una diferencia de solo 0.51 unidades de barriles entre el valor real y el predicho. Esto sugiere que el modelo ha capturado adecuadamente la relación entre las variables predictoras y la variable de respuesta. Por otro lado, **la RECM de 37.58 unidades** de barriles en el conjunto de validación muestra que, en promedio, las predicciones del modelo difieren en aproximadamente esa cantidad del valor real correspondiente. **Se trata de un error relativamente alto, teniendo en cuenta que el volumen medio real de reservas es de alrededor de 92**."
   ]
  },
  {
   "cell_type": "code",
   "execution_count": 10,
   "metadata": {},
   "outputs": [
    {
     "name": "stdout",
     "output_type": "stream",
     "text": [
      "Volumen medio de reservas real:     68.72\n",
      "Volumen medio de reservas predicho: 68.73\n",
      "RECM del modelo de regresión lineal en el conjunto de validación: 0.89\n"
     ]
    }
   ],
   "source": [
    "pred_b = []\n",
    "model(zone_b, pred_b)"
   ]
  },
  {
   "cell_type": "markdown",
   "metadata": {},
   "source": [
    "El modelo de regresión lineal diseñado para predecir el volumen de reservas de pozos petroleros ha arrojado resultados interesantes. En primer lugar, tanto el volumen medio de reservas reales como el predicho son muy similares, con un valor real de 68.72 y un valor predicho de 68.73 unidades. Esto sugiere que el modelo ha logrado una buena precisión en la predicción del volumen de reservas. **La RECM del modelo es de 0.89, lo que indica que el modelo es capaz de realizar predicciones precisas**, ajustándose bien a los datos y siendo efectivo en la predicción del volumen de producción de pozos petroleros."
   ]
  },
  {
   "cell_type": "code",
   "execution_count": 11,
   "metadata": {},
   "outputs": [
    {
     "name": "stdout",
     "output_type": "stream",
     "text": [
      "Volumen medio de reservas real:     94.88\n",
      "Volumen medio de reservas predicho: 94.97\n",
      "RECM del modelo de regresión lineal en el conjunto de validación: 40.03\n"
     ]
    }
   ],
   "source": [
    "pred_c = []\n",
    "model(zone_c, pred_c)"
   ]
  },
  {
   "cell_type": "markdown",
   "metadata": {},
   "source": [
    "El volumen medio de reservas reales es de 94.88, mientras que el volumen medio de reservas predicho es de 94.97. La ligera disparidad entre los valores reales y predichos sugiere que el modelo de regresión lineal ha demostrado una sólida capacidad predictiva, dado que la discrepancia entre los valores es mínima. Esto indica que el modelo ha logrado capturar de manera efectiva las tendencias y patrones presentes en los datos. No obstante, **la RECM del modelo es de 40.03, una cifra considerablemente alta en comparación con el volumen medio real de producción de 94.88 unidades**.\n",
    "\n",
    "[Volver al inicio](#contenido)"
   ]
  },
  {
   "cell_type": "markdown",
   "metadata": {},
   "source": [
    "<div class=\"alert alert-block alert-success\">\n",
    "<b>Comentario del revisor.</b> <a class=\"tocSkip\"></a>\n",
    "\n",
    "Llegamos a los valores esprados, bien hecho!"
   ]
  },
  {
   "cell_type": "markdown",
   "metadata": {},
   "source": [
    "<a id='puntos'></a>\n",
    "## Cálculo de puntos potenciales por zona"
   ]
  },
  {
   "cell_type": "markdown",
   "metadata": {},
   "source": [
    "Dado que la inversión total es de 100 millones de dólares para desarrollar 200 pozos petrolíferos, cada pozo requiere una inversión promedio de 500,000 dólares. Para evitar pérdidas, cada pozo debe producir al menos un valor de 500,000 dólares (equivalente a 111.1 unidades de 1,000 barriles cada una) al precio de venta de $4,500 por unidad.\n",
    "\n",
    "* Presupuesto total: \\$100,000,000 USD\n",
    "* Total de pozos a desarrollar: 200 pozos\n",
    "* Presupuesto por pozo: \\$500,000 USD\n",
    "* Precio venta x unidad de barriles (1,000 barilles): \\$4,500 USD\n",
    "* Punto de equilibrio: 111.1 unidades"
   ]
  },
  {
   "cell_type": "code",
   "execution_count": 12,
   "metadata": {},
   "outputs": [],
   "source": [
    "investment = 1e8\n",
    "wells = 200\n",
    "mean_investment = investment/wells\n",
    "unit_value = 4500\n",
    "balance = mean_investment/unit_value"
   ]
  },
  {
   "cell_type": "markdown",
   "metadata": {},
   "source": [
    "A continuación, se ha diseñado una función para calcular la media y la mediana de la producción de petróleo en cada zona, y determinar el cuantil que cumple con la producción mínima de 111.1 unidades."
   ]
  },
  {
   "cell_type": "code",
   "execution_count": 13,
   "metadata": {},
   "outputs": [],
   "source": [
    "def units(zone):\n",
    "    product = zone['product']\n",
    "    quantile_number = (product[product <= balance].count() / len(product))\n",
    "    print('Media de producción en la zona:', product.mean().round(2))\n",
    "    print('Mediana de producción en la zona:', product.median().round(2))\n",
    "    print('Cuantil de equilibrio (111.1 unidades):', quantile_number.round(3)*100)"
   ]
  },
  {
   "cell_type": "code",
   "execution_count": 14,
   "metadata": {},
   "outputs": [
    {
     "name": "stdout",
     "output_type": "stream",
     "text": [
      "Media de producción en la zona: 92.5\n",
      "Mediana de producción en la zona: 91.85\n",
      "Cuantil de equilibrio (111.1 unidades): 63.4\n"
     ]
    }
   ],
   "source": [
    "units(zone_a)"
   ]
  },
  {
   "cell_type": "markdown",
   "metadata": {},
   "source": [
    "La media de producción de petróleo por punto en la **zona petrolífera A** es de 92.5 unidades, mientras que la mediana de producción es de 91.85 unidades. La proximidad entre ambas cifras sugiere una distribución bastante simétrica de los datos de producción. A pesar de esto, ambas cifras se sitúan por debajo del mínimo requerido de 111.1 unidades, que es el punto de equilibrio para evitar pérdidas. No obstante, el valor del cuantil 63.4 es de 111.1 unidades, lo que indica que, aunque la mayoría de los puntos producen menos de 111.1 unidades, **aproximadamente 36,600 puntos cumplen o superan el requisito mínimo de 111.1 unidades**."
   ]
  },
  {
   "cell_type": "code",
   "execution_count": 15,
   "metadata": {},
   "outputs": [
    {
     "name": "stdout",
     "output_type": "stream",
     "text": [
      "Media de producción en la zona: 68.83\n",
      "Mediana de producción en la zona: 57.09\n",
      "Cuantil de equilibrio (111.1 unidades): 83.5\n"
     ]
    }
   ],
   "source": [
    "units(zone_b)"
   ]
  },
  {
   "cell_type": "markdown",
   "metadata": {},
   "source": [
    "La producción media de petróleo por punto en la **zona petrolífera B** es de 68.83 unidades, mientras que la mediana de producción es de 57.09 unidades. Esta disparidad entre la media y la mediana indica un sesgo positivo en los datos, lo que sugiere que la presencia de valores atípicos está influyendo en la media y la hace no representativa de la tendencia central de los datos. A pesar de que ambas cifras se sitúan por debajo del mínimo requerido de 111.1 unidades para alcanzar el punto de equilibrio y evitar pérdidas, el cuantil 83.5 muestra un valor de 111.1 unidades. Esto implica que, aunque la mayoría de los puntos producen menos de 111.1 unidades, **aproximadamente 16,500 puntos cumplen o superan el requisito mínimo establecido**."
   ]
  },
  {
   "cell_type": "code",
   "execution_count": 16,
   "metadata": {},
   "outputs": [
    {
     "name": "stdout",
     "output_type": "stream",
     "text": [
      "Media de producción en la zona: 95.0\n",
      "Mediana de producción en la zona: 94.93\n",
      "Cuantil de equilibrio (111.1 unidades): 61.8\n"
     ]
    }
   ],
   "source": [
    "units(zone_c)"
   ]
  },
  {
   "cell_type": "markdown",
   "metadata": {},
   "source": [
    "La producción media de petróleo por pozo en la **zona petrolífera C** es de 95.0 unidades, mientras que la mediana de producción es de 94.93 unidades. La proximidad entre ambas cifras sugiere una distribución bastante simétrica de los datos de producción. A pesar de ello, tanto la media como la mediana se sitúan por debajo del mínimo requerido de 111.1 unidades, que es el punto de equilibrio para evitar pérdidas. No obstante, el valor del percentil 61.8 es de 111.1 unidades, lo que indica que **aproximadamente el 38,200 de los pozos cumplen o superan el requisito mínimo. Esto convierte a esta zona en la que tiene más pozos petrolíferos que producen las unidades suficientes para alcanzar al menos el punto de equilibrio**.\n",
    "\n",
    "[Volver al inicio](#contenido)"
   ]
  },
  {
   "cell_type": "markdown",
   "metadata": {},
   "source": [
    "<div class=\"alert alert-block alert-success\">\n",
    "<b>Comentario del revisor.</b> <a class=\"tocSkip\"></a>\n",
    "\n",
    "Excelente forma de corroborar los puntos de equilibrio, bien hecho Alejandro!"
   ]
  },
  {
   "cell_type": "markdown",
   "metadata": {},
   "source": [
    "<a id='ganancias'></a>\n",
    "## Cálculo de ganancias estimadas"
   ]
  },
  {
   "cell_type": "markdown",
   "metadata": {},
   "source": [
    "A continuación, se seleccionarán los 200 pozos con los valores de predicción más altos, basándose en los datos originales de exploración geológica de cada zona. A partir de esta información, se calculará el promedio de producción de unidades proyectadas por punto y las ganancias:\n",
    "\n",
    "* Ingresos totales promedio = promedio de unidades x precio de venta (\\$4,500 USD)\n",
    "* Beneficio bruto promedio = ingresos totales - inversión inicial (\\$500,000 USD)\n",
    "* Margen de beneficio bruto promedio\n",
    "\n",
    "Estos cálculos nos permitirán identificar los pozos más rentables y tomar decisiones informadas para maximizar la eficiencia y rentabilidad en la explotación de recursos."
   ]
  },
  {
   "cell_type": "code",
   "execution_count": 17,
   "metadata": {},
   "outputs": [],
   "source": [
    "def revenue(zone, best_200):\n",
    "    \n",
    "### CAMBIOS ####\n",
    "\n",
    "    # 1. Predicciones para TODO el df\n",
    "\n",
    "    features = zone.drop(['id','product'], axis=1)\n",
    "    target = zone['product']\n",
    "    \n",
    "    features_train, features_valid, target_train, target_valid = train_test_split(\n",
    "        features, target, test_size=0.25, random_state=12345)\n",
    "    \n",
    "    model = LinearRegression()\n",
    "    model.fit(features_train, target_train)\n",
    "    zone['prediction'] = model.predict(features)\n",
    "    \n",
    "    # 2. Ordenar y seleccionar top 200\n",
    "        \n",
    "    #no# df = pd.Series(zone['product'])\n",
    "    #no# result = df.explode().reset_index(drop=True).sort_values(ascending=False)[:200]\n",
    "    \n",
    "    zone_pred_200 = zone.sort_values(by='prediction', ascending=False)[:200]\n",
    "    twohundred_product = zone_pred_200['product'].sum().round(2)\n",
    "   \n",
    "    # 3. Totales en vez de promedios\n",
    "    total_income = (twohundred_product * unit_value).round(2)\n",
    "    net_profit = total_income - investment\n",
    "    margin_income = (net_profit/total_income)*100\n",
    "\n",
    "    print(f'''\n",
    "Inversión inicial: ${investment:,} USD\n",
    "\n",
    "Unidades producidas en los mejores {wells} puntos: {twohundred_product:,} unidades\n",
    "\n",
    "Ganancias proyectadas: \n",
    "* Ingresos totales:          ${total_income:,} USD\n",
    "* Beneficio bruto:           ${net_profit:,} USD\n",
    "* Margen de beneficio bruto: {margin_income.round(2)}%\n",
    "''')\n",
    "    \n",
    "    return best_200.append(zone_pred_200)"
   ]
  },
  {
   "cell_type": "markdown",
   "metadata": {},
   "source": [
    "**Zona A**"
   ]
  },
  {
   "cell_type": "code",
   "execution_count": 18,
   "metadata": {},
   "outputs": [
    {
     "name": "stdout",
     "output_type": "stream",
     "text": [
      "\n",
      "Inversión inicial: $100,000,000.0 USD\n",
      "\n",
      "Unidades producidas en los mejores 200 puntos: 29,986.9 unidades\n",
      "\n",
      "Ganancias proyectadas: \n",
      "* Ingresos totales:          $134,941,050.0 USD\n",
      "* Beneficio bruto:           $34,941,050.0 USD\n",
      "* Margen de beneficio bruto: 25.89%\n",
      "\n"
     ]
    }
   ],
   "source": [
    "zone_a_pred_200 = []\n",
    "revenue(zone_a, zone_a_pred_200)  "
   ]
  },
  {
   "cell_type": "markdown",
   "metadata": {},
   "source": [
    "**Zona B**"
   ]
  },
  {
   "cell_type": "code",
   "execution_count": 19,
   "metadata": {},
   "outputs": [
    {
     "name": "stdout",
     "output_type": "stream",
     "text": [
      "\n",
      "Inversión inicial: $100,000,000.0 USD\n",
      "\n",
      "Unidades producidas en los mejores 200 puntos: 27,589.08 unidades\n",
      "\n",
      "Ganancias proyectadas: \n",
      "* Ingresos totales:          $124,150,860.0 USD\n",
      "* Beneficio bruto:           $24,150,860.0 USD\n",
      "* Margen de beneficio bruto: 19.45%\n",
      "\n"
     ]
    }
   ],
   "source": [
    "zone_b_pred_200 = []\n",
    "revenue(zone_b, zone_b_pred_200)"
   ]
  },
  {
   "cell_type": "markdown",
   "metadata": {},
   "source": [
    "**Zona C**"
   ]
  },
  {
   "cell_type": "code",
   "execution_count": 20,
   "metadata": {},
   "outputs": [
    {
     "name": "stdout",
     "output_type": "stream",
     "text": [
      "\n",
      "Inversión inicial: $100,000,000.0 USD\n",
      "\n",
      "Unidades producidas en los mejores 200 puntos: 27,936.47 unidades\n",
      "\n",
      "Ganancias proyectadas: \n",
      "* Ingresos totales:          $125,714,115.0 USD\n",
      "* Beneficio bruto:           $25,714,115.0 USD\n",
      "* Margen de beneficio bruto: 20.45%\n",
      "\n"
     ]
    }
   ],
   "source": [
    "zone_c_pred_200 = []\n",
    "revenue(zone_c, zone_c_pred_200)"
   ]
  },
  {
   "cell_type": "markdown",
   "metadata": {},
   "source": [
    "**Conclusiones**\n",
    "\n",
    "Basándonos en los datos obtenidos a partir de los 200 mejores puntos de cada zona, la **Zona A parece ser la mejor opción de inversión debido a su alto promedio de unidades proyectadas, ingresos totales y beneficio bruto, junto con un margen de beneficio bruto estimado del 31.93%**. Esta zona ofrece un equilibrio entre producción y rentabilidad, lo que la convierte en una opción atractiva para maximizar las ganancias.\n",
    "\n",
    "[Volver al inicio](#contenido)"
   ]
  },
  {
   "cell_type": "markdown",
   "metadata": {},
   "source": [
    "<div class=\"alert alert-block alert-warning\">\n",
    "<b>Comentario del revisor.</b> <a class=\"tocSkip\"></a>\n",
    "\n",
    "Has hecho un gran procedimiento aqui Alejandro, sin embargo debemos corregir algunos detalles.\n",
    "    \n",
    "1. Por un lado, debemos tener en cuenta que si debemos tomar los top 200 pozos y sus valores reales tal como lo hiciste pero para elegir estos pozos no debemos hacerlo por su valor real sino la predicción que estamos realizando. Te recomiendo **agregar a tu dataframe las predicciones de los pozos, ordenar por esta feature y ahí agarrar los top 200 valores reales**.\n",
    "    \n",
    "2. En segundo lugar tengamos en cuenta que al estar calculando ganancias de regiones debemos **al total_income restarle su presupuesto**, nosotros estamos restando el promedio por pozo (mean_investment) pero eso representa un pozo unicamente pero son **200** en realidad."
   ]
  },
  {
   "cell_type": "markdown",
   "metadata": {},
   "source": [
    "<div class=\"alert alert-block alert-warning\">\n",
    "<b>Comentario del revisor (Iteración 2).</b> <a class=\"tocSkip\"></a>\n",
    "\n",
    "Un gran avance Alejandro ya que has resuelto el punto 1 sin embargo seguimos aún calculando un promedio en la ganancia, del resultado de zone_pred_200 no debemos tomar **predictions** sino que su valor real **prudct**, luego sobre estos top 200 valores debemos aplicarle el método **sum()**, a esto si multiplicarlo por los 4500 y luego restarle los 100.000.000."
   ]
  },
  {
   "cell_type": "markdown",
   "metadata": {},
   "source": [
    "<div class=\"alert alert-block alert-success\">\n",
    "<b>Comentario del revisor (Iteración 2).</b> <a class=\"tocSkip\"></a>\n",
    "\n",
    "Felicitaciones Alejandro! Ahora si, muy bien hecho!"
   ]
  },
  {
   "cell_type": "markdown",
   "metadata": {},
   "source": [
    "<div class=\"alert alert-block alert-info\">\n",
    "<b>Respuesta</b> <a class=\"tocSkip\"></a>\n",
    "\n",
    "Ahora sí! También ya veo la lógica detrás de todo esto.\n",
    "\n",
    "</div>"
   ]
  },
  {
   "cell_type": "markdown",
   "metadata": {},
   "source": [
    "<a id='intervalos'></a>\n",
    "## Cálculo de intervalos de confianza y riesgos para cada región"
   ]
  },
  {
   "cell_type": "markdown",
   "metadata": {},
   "source": [
    "<div class=\"alert alert-block alert-info\">\n",
    "<b>Comentario</b> <a class=\"tocSkip\"></a>\n",
    "    \n",
    "Batallé mucho para hacer esta sección. Me parece un poco extraño verificar si la probabilidad es menor al 2.5%, ya que si consideramos que ya hemos seleccionado los mejores puntos, entonces la probabilidad de tener pérdidas debería ser nula, especialmente si nuestro objetivo es alcanzar las 111.1 unidades por punto. Sería muy distinto si se seleccionaran muestras de los dfs originales, pero entonces, ¿qué caso tendría haber seleccionado previamente los mejores? \n",
    "    \n",
    "De todas formas, aquí está mi mejor intento. Por favor, si encuentras algún error, agradecería observaciones detalladas, ya que me estoy reintegrando a este curso después de muchos meses y me siento un poco perdido en general. Gracias mil.\n",
    "</div>"
   ]
  },
  {
   "cell_type": "markdown",
   "metadata": {},
   "source": [
    "<div class=\"alert alert-block alert-success\">\n",
    "<b>Comentario del revisor.</b> <a class=\"tocSkip\"></a>\n",
    "\n",
    "Tengamos en cuenta Alejandro que para esta sección no estamos tomando las top 200 sino que estamos tomando 500 muestras aleatorias en base a sus valores reales, de esta forma podemos asegurar la consistencia de la región."
   ]
  },
  {
   "cell_type": "markdown",
   "metadata": {},
   "source": [
    "En la siguiente sección, se diseñó una función para aplicar la técnica del bootstrapping con 1,000 muestras de 500 puntos y analizar la distribución de los beneficios en ellas.  Esta función proporcionará el beneficio promedio, el intervalo de confianza del 95% y el riesgo de pérdidas para cada zona, ofreciendo una visión detallada de las posibles ganancias y pérdidas en cada área."
   ]
  },
  {
   "cell_type": "markdown",
   "metadata": {},
   "source": [
    "<div class=\"alert alert-block alert-success\">\n",
    "<b>Comentario del revisor.</b> <a class=\"tocSkip\"></a>\n",
    "\n",
    "A no preocuparnos Alejandro, vienes genial a pesar de haber pasado tiempo, se nota un gran manejo de las herramientas. Primero comenzando por tu duda, tiene sentido lo que dices y esto se deriva porque estamos pensando en pasar nuestros 200 pozos al calculo de riesgo, sin embargo el objetivo es pasar la región entera para que sobre esta seleccionemos muestras aleatorias y sobre ellas hacer estos calculos, al ser muestras aleatorias sobre el total podemos luego ver un resultado más seguro al respecto."
   ]
  },
  {
   "cell_type": "markdown",
   "metadata": {},
   "source": [
    "<div class=\"alert alert-block alert-success\">\n",
    "<b>Comentario del revisor.</b> <a class=\"tocSkip\"></a>\n",
    "\n",
    "Ahora yendo al calculo Alejandro, en general esta muy bien aunque debemos corregir algunas cosas, vayamos paso a paso:\n",
    "    \n",
    "1. Debemos tomar **toda la región** y no unicamente los 200 pozos.\n",
    "2. Las 1000 iteraciones son correctas, sin embargo el hecho de implementar frac=1 significa que estamos tomando el 100% de los datos, esto haría que todas las muestras sean siempre igual, por esta razón deberíamos **aplicar n=500** que tomara aleatoriamente 500 pozos.\n",
    "3. Los valores que debemos calcular sobre la muestra aleatoria no es el promedio sino que deberiamos **calcular el beneficio de dichos pozos utilizando nuestra función anteriormente creada**.\n",
    "4. Luego recordemos calcular la perdida, que podríamos hacerlo de la siguiente forma por ejemplo **perdida=((pd.Series(values)<0).mean())**\n",
    "5. Por ultimo los calculos de los intervalores son correctos, si deseas puedes guiarte por una forma más sencilla como la siguiente: \n",
    "                                                                                                                                            alpha = 0.05 \n",
    "                                                                                                                                            interv_low = serie_benef.quantile(alpha/2) \n",
    "                                                                                                                                            interv_up = serie_benef.quantile(1-alpha/2)  \n",
    "                                                                                                                                      "
   ]
  },
  {
   "cell_type": "markdown",
   "metadata": {},
   "source": [
    "<div class=\"alert alert-block alert-info\">\n",
    "<b>Comentario</b> <a class=\"tocSkip\"></a>\n",
    "    \n",
    "Muchas gracias por tus instrucciones. Espero haberlas aplicado correctamente. Por lo menos siento que veo una luz al final del túnel... espero que no sea un tren.\n",
    "    \n",
    "</div>"
   ]
  },
  {
   "cell_type": "code",
   "execution_count": 22,
   "metadata": {},
   "outputs": [],
   "source": [
    "def income_risk(zone):\n",
    "    \n",
    "    data = pd.Series(zone['prediction']).reset_index(drop=True)\n",
    "    state = np.random.RandomState(12345)\n",
    "    \n",
    "    ### De 500 muestras aleatorias SIN escoger las 200 mejores\n",
    "    # Bootstraping\n",
    "    values = []\n",
    "    for i in range(1000):\n",
    "        bootstrap = data.sample(n=500, replace=True, \n",
    "                                random_state=state).sort_values(ascending=False)[:200]\n",
    "        revenue = (bootstrap * unit_value).sum()\n",
    "        values.append((revenue - investment).round(2))\n",
    "    \n",
    "    # Intervalo de confianza\n",
    "    benefits = pd.Series(values)\n",
    "    \n",
    "    alpha = 0.05 \n",
    "    interv_low = benefits.quantile(alpha/2).round(2)\n",
    "    interv_up = benefits.quantile(1-alpha/2).round(2)\n",
    "    \n",
    "    # Riesgo de pérdidas\n",
    "    \n",
    "    #loss_probability = sum(value < (111.1*4500) for value in values) / len(values)\n",
    "    loss=(((pd.Series(values) < 0).mean())* 100).round(2)\n",
    "\n",
    "        \n",
    "    # Muestra de resultados\n",
    "    print(f'''\n",
    "Beneficio medio proyectado: ${(benefits.mean().round(2)):,} USD\n",
    "Intervalo de confianza del 95%: (${interv_low:,} USD, ${interv_up:,} USD)\n",
    "Riesgo de pérdidas: {loss:,}%''')"
   ]
  },
  {
   "cell_type": "markdown",
   "metadata": {},
   "source": [
    "<div class=\"alert alert-block alert-success\">\n",
    "<b>Comentario del revisor.</b> <a class=\"tocSkip\"></a>\n",
    "\n",
    "Excelente implementación de lo solicitado Alejandro, muy bien hecho!"
   ]
  },
  {
   "cell_type": "markdown",
   "metadata": {},
   "source": [
    "**Zona A**"
   ]
  },
  {
   "cell_type": "code",
   "execution_count": 23,
   "metadata": {},
   "outputs": [
    {
     "name": "stdout",
     "output_type": "stream",
     "text": [
      "\n",
      "Beneficio medio proyectado: $3,586,406.81 USD\n",
      "Intervalo de confianza del 95%: ($1,294,396.34 USD, $5,825,535.73 USD)\n",
      "Riesgo de pérdidas: 0.0%\n"
     ]
    }
   ],
   "source": [
    "income_risk(zone_a)"
   ]
  },
  {
   "cell_type": "markdown",
   "metadata": {},
   "source": [
    "**Zona B**"
   ]
  },
  {
   "cell_type": "code",
   "execution_count": 24,
   "metadata": {
    "scrolled": true
   },
   "outputs": [
    {
     "name": "stdout",
     "output_type": "stream",
     "text": [
      "\n",
      "Beneficio medio proyectado: $4,469,223.75 USD\n",
      "Intervalo de confianza del 95%: ($395,594.56 USD, $8,267,349.83 USD)\n",
      "Riesgo de pérdidas: 1.4%\n"
     ]
    }
   ],
   "source": [
    "income_risk(zone_b)"
   ]
  },
  {
   "cell_type": "markdown",
   "metadata": {},
   "source": [
    "**Zona C**"
   ]
  },
  {
   "cell_type": "code",
   "execution_count": 25,
   "metadata": {},
   "outputs": [
    {
     "name": "stdout",
     "output_type": "stream",
     "text": [
      "\n",
      "Beneficio medio proyectado: $2,807,007.65 USD\n",
      "Intervalo de confianza del 95%: ($887,613.53 USD, $4,872,695.5 USD)\n",
      "Riesgo de pérdidas: 0.1%\n"
     ]
    }
   ],
   "source": [
    "income_risk(zone_c)"
   ]
  },
  {
   "cell_type": "markdown",
   "metadata": {},
   "source": [
    "**Conclusiones**"
   ]
  },
  {
   "cell_type": "markdown",
   "metadata": {},
   "source": [
    "Al utilizar las 200 mejores proyecciones de una muestra aleatoria de 500 puntos, las zonas A y B se perfilan como buenas zonas de inversión. Por un lado, la Zona A tiene un beneficio medio proyectado de \\\\$3,586,406.81 USD con un riesgo practicamente nulo. Por su parte, **los beneficios esperados de la zona B son mayores, ya que rondan los  \\\\$4.469.223,75 USD (+$882,816.94). Aunque la Zona B conlleva un riesgo de pérdida del 1,4%, es relativamente bajo y puede ser una compensación aceptable por los beneficios potenciales significativamente mayores**. No obstante, es importante tener en cuenta otros factores más allá de las cifras de beneficios y riesgo, como el horizonte temporal, las necesidades de liquidez y las estrategias de inversión global.\n",
    "\n",
    "[Volver al inicio](#contenido)"
   ]
  },
  {
   "cell_type": "markdown",
   "metadata": {},
   "source": [
    "<div class=\"alert alert-block alert-success\">\n",
    "<b>Comentario del revisor.</b> <a class=\"tocSkip\"></a>\n",
    "\n",
    "Lo has hecho muy bien Alejandro, has llegado a la conclusión que se buscaba, la implementación fue correcta, si bien podríamos modificar algunos pasos para que sea más ordenado lo has implementado correctamente."
   ]
  },
  {
   "cell_type": "markdown",
   "metadata": {},
   "source": [
    "<a id='conclusiones'></a>\n",
    "## Conclusiones generales"
   ]
  },
  {
   "cell_type": "markdown",
   "metadata": {},
   "source": [
    "* El presente estudio tuvo como objetivo identificar los mejores lugares para la apertura de 200 nuevos pozos petroleros dentro de tres zonas geológicas.\n",
    "\n",
    "\n",
    "* Los conjuntos de datos proporcionados por la empresa constaban de 100,000 observaciones cada uno, sin datos faltantes ni observaciones repetidas.\n",
    "\n",
    "\n",
    "* Se entrenó y aplicó un modelo de regresión para cada una de las tres zonas. En el caso de la zona B, el modelo tuvo una RECM de 0.89, lo que indica una alta precisión en las predicciones. Sin embargo, para las otras dos zonas, el RECM fue aproximadamente de 40 unidades, sugiriendo margen de mejora en el modelo.\n",
    "\n",
    "\n",
    "* Posteriormente, se calcularon la media y la mediana de producción de cada zona, así como el cuantil que marca el punto de equilibrio. Las zonas A y C mostraron más de 36,000 puntos potenciales donde se proyecta alcanzar al menos el punto de equilibrio.\n",
    "\n",
    "\n",
    "* A continuación, se seleccionarán los 200 pozos con los valores de predicción más altos, basándose en los datos originales de exploración geológica de cada zona. A partir de esta información, se calculó el promedio de producción de unidades proyectadas por punto, así como sus correspondientes beneficios. **La zona A resultó la más rentable, con un promedio de producción proyectada de 163.22 unidades por punto, lo que supondría un beneficio bruto de $46,898,000.0 USD (margen bruto del 31.93%).**\n",
    "\n",
    "\n",
    "* Finalmente, se calcularon el intervalo de confianza y los riesgos para cada región a partir de tomar los 200 mejores puntos de una muestra aleatoria de 500 puntos. Esta vez, **la zona B se destacó como la mejor opción, ya que el intervalo de confianza del 95% mostró un intervalo que va de los \\\\$395,594.56 USD a los \\\\$8,267,349.83 USD), y un riesgo relativamente bajo de 1.4%**.\n",
    "\n",
    "[Volver al inicio](#contenido)"
   ]
  },
  {
   "cell_type": "markdown",
   "metadata": {},
   "source": [
    "<div class=\"alert alert-block alert-success\">\n",
    "<b>Comentario del revisor.</b> <a class=\"tocSkip\"></a>\n",
    "\n",
    "Quería dedicarme aquí a agradecerte Alejandro por que has hecho un trabajo de exelencia, desde las implementaciones detalladas y los agregados a lo solicitado en el proyecto. A la vez destacar tanto tus conclusiones parciales como esta final que han complentado y demostrado tu gran comprensión de lo trabajado y lo obtenido.    "
   ]
  },
  {
   "cell_type": "markdown",
   "metadata": {},
   "source": [
    "<div class=\"alert alert-block alert-info\">\n",
    "<b>Comentario</b> <a class=\"tocSkip\"></a>\n",
    "    \n",
    "Muchas gracias por tus comentarios, me han dado muchos ánimos, sobre todo cuando me sentía confundido. Es cierto que conforme iba haciendo el proyecto me sentía más seguro y recordaba cosas. Vamos a ver qué tal va con esta iteración.\n",
    "    \n",
    "</div>"
   ]
  }
 ],
 "metadata": {
  "ExecuteTimeLog": [
   {
    "duration": 335,
    "start_time": "2024-05-16T16:09:42.219Z"
   },
   {
    "duration": 1219,
    "start_time": "2024-05-16T16:09:44.107Z"
   },
   {
    "duration": 903,
    "start_time": "2024-05-16T16:09:46.017Z"
   },
   {
    "duration": 500,
    "start_time": "2024-05-16T16:09:55.352Z"
   },
   {
    "duration": 5,
    "start_time": "2024-05-16T16:09:57.799Z"
   },
   {
    "duration": 123,
    "start_time": "2024-05-16T16:09:57.943Z"
   },
   {
    "duration": 110,
    "start_time": "2024-05-16T16:09:58.285Z"
   },
   {
    "duration": 112,
    "start_time": "2024-05-16T16:10:01.044Z"
   },
   {
    "duration": 6,
    "start_time": "2024-05-16T16:10:17.360Z"
   },
   {
    "duration": 31,
    "start_time": "2024-05-16T16:10:17.687Z"
   },
   {
    "duration": 31,
    "start_time": "2024-05-16T16:10:18.014Z"
   },
   {
    "duration": 32,
    "start_time": "2024-05-16T16:10:18.365Z"
   },
   {
    "duration": 4,
    "start_time": "2024-05-16T16:13:38.380Z"
   },
   {
    "duration": 5,
    "start_time": "2024-05-16T16:13:38.778Z"
   },
   {
    "duration": 42,
    "start_time": "2024-05-16T16:13:39.504Z"
   },
   {
    "duration": 9,
    "start_time": "2024-05-16T16:13:42.364Z"
   },
   {
    "duration": 16,
    "start_time": "2024-05-16T16:13:42.654Z"
   },
   {
    "duration": 7,
    "start_time": "2024-05-16T16:14:36.401Z"
   },
   {
    "duration": 25,
    "start_time": "2024-05-16T16:14:51.025Z"
   },
   {
    "duration": 8,
    "start_time": "2024-05-16T16:15:02.844Z"
   },
   {
    "duration": 35,
    "start_time": "2024-05-16T16:15:13.225Z"
   },
   {
    "duration": 17,
    "start_time": "2024-05-16T16:15:20.778Z"
   },
   {
    "duration": 6,
    "start_time": "2024-05-16T16:16:48.527Z"
   },
   {
    "duration": 21,
    "start_time": "2024-05-16T16:16:48.940Z"
   },
   {
    "duration": 14,
    "start_time": "2024-05-16T16:16:49.274Z"
   },
   {
    "duration": 21,
    "start_time": "2024-05-16T16:16:52.466Z"
   },
   {
    "duration": 5,
    "start_time": "2024-05-16T16:17:30.045Z"
   },
   {
    "duration": 7,
    "start_time": "2024-05-16T16:23:51.880Z"
   },
   {
    "duration": 271,
    "start_time": "2024-05-16T16:23:52.397Z"
   },
   {
    "duration": 259,
    "start_time": "2024-05-16T16:23:52.729Z"
   },
   {
    "duration": 240,
    "start_time": "2024-05-16T16:23:54.916Z"
   },
   {
    "duration": 14,
    "start_time": "2024-05-17T16:34:26.986Z"
   },
   {
    "duration": 1340,
    "start_time": "2024-05-17T16:34:44.145Z"
   },
   {
    "duration": 2905,
    "start_time": "2024-05-17T16:34:45.488Z"
   },
   {
    "duration": 478,
    "start_time": "2024-05-17T16:34:48.396Z"
   },
   {
    "duration": 6,
    "start_time": "2024-05-17T16:34:48.879Z"
   },
   {
    "duration": 137,
    "start_time": "2024-05-17T16:34:48.888Z"
   },
   {
    "duration": 140,
    "start_time": "2024-05-17T16:34:49.027Z"
   },
   {
    "duration": 139,
    "start_time": "2024-05-17T16:34:49.171Z"
   },
   {
    "duration": 7,
    "start_time": "2024-05-17T16:34:49.313Z"
   },
   {
    "duration": 26,
    "start_time": "2024-05-17T16:34:49.323Z"
   },
   {
    "duration": 78,
    "start_time": "2024-05-17T16:34:49.353Z"
   },
   {
    "duration": 100,
    "start_time": "2024-05-17T16:34:49.433Z"
   },
   {
    "duration": 5,
    "start_time": "2024-05-17T16:34:49.610Z"
   },
   {
    "duration": 6,
    "start_time": "2024-05-17T16:34:49.618Z"
   },
   {
    "duration": 84,
    "start_time": "2024-05-17T16:34:49.627Z"
   },
   {
    "duration": 10,
    "start_time": "2024-05-17T16:34:49.714Z"
   },
   {
    "duration": 10,
    "start_time": "2024-05-17T16:34:49.727Z"
   },
   {
    "duration": 18,
    "start_time": "2024-05-17T16:34:49.740Z"
   },
   {
    "duration": 51,
    "start_time": "2024-05-17T16:34:49.761Z"
   },
   {
    "duration": 5,
    "start_time": "2024-05-17T16:35:00.394Z"
   },
   {
    "duration": 5,
    "start_time": "2024-05-17T16:35:19.042Z"
   },
   {
    "duration": 7,
    "start_time": "2024-05-17T16:35:30.960Z"
   },
   {
    "duration": 25,
    "start_time": "2024-05-17T16:35:37.980Z"
   },
   {
    "duration": 5,
    "start_time": "2024-05-17T16:35:45.331Z"
   },
   {
    "duration": 40,
    "start_time": "2024-05-17T16:35:47.437Z"
   },
   {
    "duration": 6,
    "start_time": "2024-05-17T16:43:22.036Z"
   },
   {
    "duration": 86,
    "start_time": "2024-05-17T16:43:40.736Z"
   },
   {
    "duration": 5,
    "start_time": "2024-05-17T16:45:31.847Z"
   },
   {
    "duration": 133,
    "start_time": "2024-05-17T16:45:33.789Z"
   },
   {
    "duration": 6,
    "start_time": "2024-05-17T16:46:00.678Z"
   },
   {
    "duration": 78,
    "start_time": "2024-05-17T16:46:02.849Z"
   },
   {
    "duration": 6,
    "start_time": "2024-05-17T16:46:13.012Z"
   },
   {
    "duration": 112,
    "start_time": "2024-05-17T16:46:15.722Z"
   },
   {
    "duration": 8,
    "start_time": "2024-05-17T16:52:22.436Z"
   },
   {
    "duration": 618,
    "start_time": "2024-05-17T16:52:41.090Z"
   },
   {
    "duration": 8,
    "start_time": "2024-05-17T16:52:43.976Z"
   },
   {
    "duration": 176,
    "start_time": "2024-05-17T16:52:46.249Z"
   },
   {
    "duration": 8,
    "start_time": "2024-05-17T16:53:24.361Z"
   },
   {
    "duration": 222,
    "start_time": "2024-05-17T16:53:26.796Z"
   },
   {
    "duration": 8,
    "start_time": "2024-05-17T16:54:12.084Z"
   },
   {
    "duration": 10,
    "start_time": "2024-05-17T16:54:14.469Z"
   },
   {
    "duration": 97,
    "start_time": "2024-05-17T16:54:16.021Z"
   },
   {
    "duration": 70,
    "start_time": "2024-05-17T16:54:25.860Z"
   },
   {
    "duration": 7,
    "start_time": "2024-05-17T16:58:03.459Z"
   },
   {
    "duration": 76,
    "start_time": "2024-05-17T16:58:07.149Z"
   },
   {
    "duration": 7,
    "start_time": "2024-05-17T16:59:00.198Z"
   },
   {
    "duration": 116,
    "start_time": "2024-05-17T16:59:09.998Z"
   },
   {
    "duration": 7,
    "start_time": "2024-05-17T17:02:13.776Z"
   },
   {
    "duration": 95,
    "start_time": "2024-05-17T17:02:19.021Z"
   },
   {
    "duration": 8,
    "start_time": "2024-05-17T17:03:12.143Z"
   },
   {
    "duration": 58,
    "start_time": "2024-05-17T17:03:14.268Z"
   },
   {
    "duration": 9,
    "start_time": "2024-05-17T17:04:24.577Z"
   },
   {
    "duration": 81,
    "start_time": "2024-05-17T17:06:06.034Z"
   },
   {
    "duration": 7,
    "start_time": "2024-05-17T17:07:07.909Z"
   },
   {
    "duration": 55,
    "start_time": "2024-05-17T17:07:10.766Z"
   },
   {
    "duration": 8,
    "start_time": "2024-05-17T17:07:28.444Z"
   },
   {
    "duration": 118,
    "start_time": "2024-05-17T17:07:30.597Z"
   },
   {
    "duration": 10,
    "start_time": "2024-05-17T17:08:19.360Z"
   },
   {
    "duration": 120,
    "start_time": "2024-05-17T17:08:21.099Z"
   },
   {
    "duration": 8,
    "start_time": "2024-05-17T17:09:20.453Z"
   },
   {
    "duration": 115,
    "start_time": "2024-05-17T17:09:22.701Z"
   },
   {
    "duration": 55,
    "start_time": "2024-05-17T17:09:25.575Z"
   },
   {
    "duration": 95,
    "start_time": "2024-05-17T17:09:31.426Z"
   },
   {
    "duration": 6,
    "start_time": "2024-05-17T17:11:12.219Z"
   },
   {
    "duration": 6,
    "start_time": "2024-05-17T17:11:18.246Z"
   },
   {
    "duration": 8,
    "start_time": "2024-05-17T17:11:48.351Z"
   },
   {
    "duration": 10,
    "start_time": "2024-05-17T17:16:41.470Z"
   },
   {
    "duration": 7,
    "start_time": "2024-05-17T17:17:11.389Z"
   },
   {
    "duration": 7,
    "start_time": "2024-05-17T17:17:20.524Z"
   },
   {
    "duration": 42,
    "start_time": "2024-05-17T17:17:25.903Z"
   },
   {
    "duration": 10,
    "start_time": "2024-05-17T17:18:05.968Z"
   },
   {
    "duration": 40,
    "start_time": "2024-05-17T17:18:11.528Z"
   },
   {
    "duration": 9,
    "start_time": "2024-05-17T17:18:50.585Z"
   },
   {
    "duration": 42,
    "start_time": "2024-05-17T17:18:58.084Z"
   },
   {
    "duration": 33,
    "start_time": "2024-05-17T17:21:35.236Z"
   },
   {
    "duration": 10,
    "start_time": "2024-05-17T17:21:57.381Z"
   },
   {
    "duration": 41,
    "start_time": "2024-05-17T17:21:59.220Z"
   },
   {
    "duration": 8,
    "start_time": "2024-05-17T17:22:55.077Z"
   },
   {
    "duration": 43,
    "start_time": "2024-05-17T17:22:57.878Z"
   },
   {
    "duration": 8,
    "start_time": "2024-05-17T17:23:46.906Z"
   },
   {
    "duration": 42,
    "start_time": "2024-05-17T17:23:50.866Z"
   },
   {
    "duration": 8,
    "start_time": "2024-05-17T17:24:07.198Z"
   },
   {
    "duration": 40,
    "start_time": "2024-05-17T17:24:10.435Z"
   },
   {
    "duration": 9,
    "start_time": "2024-05-17T17:25:26.026Z"
   },
   {
    "duration": 8,
    "start_time": "2024-05-17T17:25:34.694Z"
   },
   {
    "duration": 41,
    "start_time": "2024-05-17T17:26:06.454Z"
   },
   {
    "duration": 9,
    "start_time": "2024-05-17T17:26:10.451Z"
   },
   {
    "duration": 46,
    "start_time": "2024-05-17T17:26:12.205Z"
   },
   {
    "duration": 5,
    "start_time": "2024-05-17T17:29:54.237Z"
   },
   {
    "duration": 37,
    "start_time": "2024-05-17T17:29:56.370Z"
   },
   {
    "duration": 6,
    "start_time": "2024-05-17T17:31:06.883Z"
   },
   {
    "duration": 36,
    "start_time": "2024-05-17T17:31:09.921Z"
   },
   {
    "duration": 6,
    "start_time": "2024-05-17T17:31:57.250Z"
   },
   {
    "duration": 47,
    "start_time": "2024-05-17T17:31:59.844Z"
   },
   {
    "duration": 4,
    "start_time": "2024-05-17T17:32:20.238Z"
   },
   {
    "duration": 36,
    "start_time": "2024-05-17T17:32:22.305Z"
   },
   {
    "duration": 3,
    "start_time": "2024-05-17T17:32:35.077Z"
   },
   {
    "duration": 4,
    "start_time": "2024-05-17T17:32:40.837Z"
   },
   {
    "duration": 12,
    "start_time": "2024-05-17T17:32:56.557Z"
   },
   {
    "duration": 8,
    "start_time": "2024-05-17T17:35:01.065Z"
   },
   {
    "duration": 118,
    "start_time": "2024-05-17T17:35:04.793Z"
   },
   {
    "duration": 18,
    "start_time": "2024-05-17T17:36:21.618Z"
   },
   {
    "duration": 10,
    "start_time": "2024-05-17T17:36:39.447Z"
   },
   {
    "duration": 9,
    "start_time": "2024-05-17T17:37:13.097Z"
   },
   {
    "duration": 300,
    "start_time": "2024-05-17T17:37:15.610Z"
   },
   {
    "duration": 5,
    "start_time": "2024-05-17T17:42:46.802Z"
   },
   {
    "duration": 286,
    "start_time": "2024-05-17T17:42:51.066Z"
   },
   {
    "duration": 4,
    "start_time": "2024-05-17T17:43:08.663Z"
   },
   {
    "duration": 1275,
    "start_time": "2024-05-17T17:43:10.854Z"
   },
   {
    "duration": 7,
    "start_time": "2024-05-17T17:48:44.954Z"
   },
   {
    "duration": 769,
    "start_time": "2024-05-17T17:48:47.715Z"
   },
   {
    "duration": 6,
    "start_time": "2024-05-17T17:49:10.110Z"
   },
   {
    "duration": 730,
    "start_time": "2024-05-17T17:49:12.647Z"
   },
   {
    "duration": 725,
    "start_time": "2024-05-17T17:49:40.805Z"
   },
   {
    "duration": 5,
    "start_time": "2024-05-17T17:49:59.695Z"
   },
   {
    "duration": 6,
    "start_time": "2024-05-17T17:50:03.015Z"
   },
   {
    "duration": 762,
    "start_time": "2024-05-17T17:50:06.026Z"
   },
   {
    "duration": 6,
    "start_time": "2024-05-17T17:50:35.365Z"
   },
   {
    "duration": 729,
    "start_time": "2024-05-17T17:50:37.857Z"
   },
   {
    "duration": 5,
    "start_time": "2024-05-17T17:51:46.115Z"
   },
   {
    "duration": 40,
    "start_time": "2024-05-17T17:51:49.031Z"
   },
   {
    "duration": 6,
    "start_time": "2024-05-17T17:51:59.555Z"
   },
   {
    "duration": 1029,
    "start_time": "2024-05-17T17:52:02.181Z"
   },
   {
    "duration": 7,
    "start_time": "2024-05-17T17:52:15.119Z"
   },
   {
    "duration": 1021,
    "start_time": "2024-05-17T17:52:18.263Z"
   },
   {
    "duration": 6,
    "start_time": "2024-05-17T17:52:48.811Z"
   },
   {
    "duration": 6,
    "start_time": "2024-05-17T17:53:00.361Z"
   },
   {
    "duration": 662,
    "start_time": "2024-05-17T17:53:02.229Z"
   },
   {
    "duration": 5,
    "start_time": "2024-05-17T17:53:29.300Z"
   },
   {
    "duration": 14,
    "start_time": "2024-05-17T17:53:31.234Z"
   },
   {
    "duration": 719,
    "start_time": "2024-05-17T17:53:38.089Z"
   },
   {
    "duration": 6,
    "start_time": "2024-05-17T17:54:58.711Z"
   },
   {
    "duration": 676,
    "start_time": "2024-05-17T17:55:01.964Z"
   },
   {
    "duration": 5,
    "start_time": "2024-05-17T17:55:25.490Z"
   },
   {
    "duration": 709,
    "start_time": "2024-05-17T17:55:27.659Z"
   },
   {
    "duration": 6,
    "start_time": "2024-05-17T17:55:51.911Z"
   },
   {
    "duration": 719,
    "start_time": "2024-05-17T17:55:54.340Z"
   },
   {
    "duration": 10,
    "start_time": "2024-05-17T18:00:24.541Z"
   },
   {
    "duration": 686,
    "start_time": "2024-05-17T18:00:26.496Z"
   },
   {
    "duration": 8,
    "start_time": "2024-05-17T18:01:21.533Z"
   },
   {
    "duration": 696,
    "start_time": "2024-05-17T18:01:23.329Z"
   },
   {
    "duration": 12,
    "start_time": "2024-05-17T18:02:10.089Z"
   },
   {
    "duration": 8,
    "start_time": "2024-05-17T18:02:21.272Z"
   },
   {
    "duration": 692,
    "start_time": "2024-05-17T18:02:24.170Z"
   },
   {
    "duration": 8,
    "start_time": "2024-05-17T18:02:37.525Z"
   },
   {
    "duration": 8,
    "start_time": "2024-05-17T18:06:58.292Z"
   },
   {
    "duration": 752,
    "start_time": "2024-05-17T18:07:01.840Z"
   },
   {
    "duration": 8,
    "start_time": "2024-05-17T18:07:12.262Z"
   },
   {
    "duration": 722,
    "start_time": "2024-05-17T18:07:14.751Z"
   },
   {
    "duration": 8,
    "start_time": "2024-05-17T18:07:46.459Z"
   },
   {
    "duration": 708,
    "start_time": "2024-05-17T18:07:48.410Z"
   },
   {
    "duration": 8,
    "start_time": "2024-05-17T18:10:33.374Z"
   },
   {
    "duration": 718,
    "start_time": "2024-05-17T18:10:36.680Z"
   },
   {
    "duration": 9,
    "start_time": "2024-05-17T18:12:40.096Z"
   },
   {
    "duration": 718,
    "start_time": "2024-05-17T18:12:43.240Z"
   },
   {
    "duration": 9,
    "start_time": "2024-05-17T18:13:41.505Z"
   },
   {
    "duration": 760,
    "start_time": "2024-05-17T18:13:43.602Z"
   },
   {
    "duration": 9,
    "start_time": "2024-05-17T18:14:34.733Z"
   },
   {
    "duration": 704,
    "start_time": "2024-05-17T18:14:37.128Z"
   },
   {
    "duration": 12,
    "start_time": "2024-05-17T18:14:44.557Z"
   },
   {
    "duration": 719,
    "start_time": "2024-05-17T18:14:46.778Z"
   },
   {
    "duration": 10,
    "start_time": "2024-05-17T18:15:01.983Z"
   },
   {
    "duration": 14,
    "start_time": "2024-05-17T18:15:24.564Z"
   },
   {
    "duration": 8,
    "start_time": "2024-05-17T18:17:50.896Z"
   },
   {
    "duration": 13,
    "start_time": "2024-05-17T18:18:59.413Z"
   },
   {
    "duration": 11,
    "start_time": "2024-05-17T18:19:13.924Z"
   },
   {
    "duration": 693,
    "start_time": "2024-05-17T18:19:16.400Z"
   },
   {
    "duration": 9,
    "start_time": "2024-05-17T18:20:54.645Z"
   },
   {
    "duration": 877,
    "start_time": "2024-05-17T18:20:56.552Z"
   },
   {
    "duration": 9,
    "start_time": "2024-05-17T18:21:38.337Z"
   },
   {
    "duration": 9,
    "start_time": "2024-05-17T18:21:49.545Z"
   },
   {
    "duration": 699,
    "start_time": "2024-05-17T18:21:51.714Z"
   },
   {
    "duration": 10,
    "start_time": "2024-05-17T18:23:06.287Z"
   },
   {
    "duration": 723,
    "start_time": "2024-05-17T18:23:09.762Z"
   },
   {
    "duration": 8,
    "start_time": "2024-05-17T18:23:21.276Z"
   },
   {
    "duration": 697,
    "start_time": "2024-05-17T18:23:23.330Z"
   },
   {
    "duration": 9,
    "start_time": "2024-05-17T18:24:50.793Z"
   },
   {
    "duration": 9,
    "start_time": "2024-05-17T18:24:56.263Z"
   },
   {
    "duration": 743,
    "start_time": "2024-05-17T18:24:58.111Z"
   },
   {
    "duration": 8,
    "start_time": "2024-05-17T18:26:09.873Z"
   },
   {
    "duration": 703,
    "start_time": "2024-05-17T18:26:12.136Z"
   },
   {
    "duration": 9,
    "start_time": "2024-05-17T18:26:30.129Z"
   },
   {
    "duration": 687,
    "start_time": "2024-05-17T18:26:32.074Z"
   },
   {
    "duration": 8,
    "start_time": "2024-05-17T18:26:44.242Z"
   },
   {
    "duration": 702,
    "start_time": "2024-05-17T18:26:46.254Z"
   },
   {
    "duration": 15,
    "start_time": "2024-05-17T18:28:46.295Z"
   },
   {
    "duration": 14,
    "start_time": "2024-05-17T18:28:52.911Z"
   },
   {
    "duration": 761,
    "start_time": "2024-05-17T18:28:55.298Z"
   },
   {
    "duration": 8,
    "start_time": "2024-05-17T18:29:02.841Z"
   },
   {
    "duration": 21,
    "start_time": "2024-05-17T18:29:05.657Z"
   },
   {
    "duration": 717,
    "start_time": "2024-05-17T18:29:13.493Z"
   },
   {
    "duration": 8,
    "start_time": "2024-05-17T18:30:02.198Z"
   },
   {
    "duration": 728,
    "start_time": "2024-05-17T18:30:04.924Z"
   },
   {
    "duration": 8,
    "start_time": "2024-05-17T18:30:17.076Z"
   },
   {
    "duration": 688,
    "start_time": "2024-05-17T18:30:18.765Z"
   },
   {
    "duration": 8,
    "start_time": "2024-05-17T18:30:40.778Z"
   },
   {
    "duration": 706,
    "start_time": "2024-05-17T18:30:43.186Z"
   },
   {
    "duration": 682,
    "start_time": "2024-05-17T18:30:48.480Z"
   },
   {
    "duration": 9,
    "start_time": "2024-05-17T18:31:13.840Z"
   },
   {
    "duration": 12,
    "start_time": "2024-05-17T18:31:15.886Z"
   },
   {
    "duration": 708,
    "start_time": "2024-05-17T18:31:17.970Z"
   },
   {
    "duration": 780,
    "start_time": "2024-05-17T18:31:20.773Z"
   },
   {
    "duration": 30,
    "start_time": "2024-05-17T18:31:25.902Z"
   },
   {
    "duration": 741,
    "start_time": "2024-05-17T18:31:30.357Z"
   },
   {
    "duration": 7,
    "start_time": "2024-05-17T18:36:56.813Z"
   },
   {
    "duration": 683,
    "start_time": "2024-05-17T18:36:58.625Z"
   },
   {
    "duration": 7,
    "start_time": "2024-05-17T18:37:08.083Z"
   },
   {
    "duration": 700,
    "start_time": "2024-05-17T18:37:09.881Z"
   },
   {
    "duration": 783,
    "start_time": "2024-05-17T18:37:13.917Z"
   },
   {
    "duration": 709,
    "start_time": "2024-05-17T18:37:18.141Z"
   },
   {
    "duration": 10,
    "start_time": "2024-05-17T18:37:24.875Z"
   },
   {
    "duration": 750,
    "start_time": "2024-05-17T18:37:26.815Z"
   },
   {
    "duration": 8,
    "start_time": "2024-05-17T18:37:51.659Z"
   },
   {
    "duration": 9,
    "start_time": "2024-05-17T18:39:00.256Z"
   },
   {
    "duration": 8,
    "start_time": "2024-05-17T18:39:07.526Z"
   },
   {
    "duration": 857,
    "start_time": "2024-05-17T18:39:12.373Z"
   },
   {
    "duration": 8,
    "start_time": "2024-05-17T18:40:18.892Z"
   },
   {
    "duration": 690,
    "start_time": "2024-05-17T18:40:22.872Z"
   },
   {
    "duration": 8,
    "start_time": "2024-05-17T18:41:07.889Z"
   },
   {
    "duration": 714,
    "start_time": "2024-05-17T18:41:10.428Z"
   },
   {
    "duration": 8,
    "start_time": "2024-05-17T18:42:33.162Z"
   },
   {
    "duration": 8,
    "start_time": "2024-05-17T18:42:38.422Z"
   },
   {
    "duration": 828,
    "start_time": "2024-05-17T18:42:40.594Z"
   },
   {
    "duration": 8,
    "start_time": "2024-05-17T18:43:07.036Z"
   },
   {
    "duration": 683,
    "start_time": "2024-05-17T18:43:11.174Z"
   },
   {
    "duration": 8,
    "start_time": "2024-05-17T18:43:49.637Z"
   },
   {
    "duration": 702,
    "start_time": "2024-05-17T18:43:54.009Z"
   },
   {
    "duration": 726,
    "start_time": "2024-05-17T18:44:34.170Z"
   },
   {
    "duration": 8,
    "start_time": "2024-05-17T18:45:30.790Z"
   },
   {
    "duration": 688,
    "start_time": "2024-05-17T18:45:33.594Z"
   },
   {
    "duration": 704,
    "start_time": "2024-05-17T18:45:36.761Z"
   },
   {
    "duration": 700,
    "start_time": "2024-05-17T18:45:40.208Z"
   },
   {
    "duration": 7,
    "start_time": "2024-05-17T18:45:46.692Z"
   },
   {
    "duration": 696,
    "start_time": "2024-05-17T18:45:50.394Z"
   },
   {
    "duration": 8,
    "start_time": "2024-05-17T18:45:58.690Z"
   },
   {
    "duration": 685,
    "start_time": "2024-05-17T18:46:00.668Z"
   },
   {
    "duration": 681,
    "start_time": "2024-05-17T18:46:02.947Z"
   },
   {
    "duration": 8,
    "start_time": "2024-05-17T18:46:27.162Z"
   },
   {
    "duration": 710,
    "start_time": "2024-05-17T18:46:30.035Z"
   },
   {
    "duration": 716,
    "start_time": "2024-05-17T18:48:10.931Z"
   },
   {
    "duration": 705,
    "start_time": "2024-05-17T18:48:20.987Z"
   },
   {
    "duration": 8,
    "start_time": "2024-05-17T18:55:40.997Z"
   },
   {
    "duration": 722,
    "start_time": "2024-05-17T18:55:42.605Z"
   },
   {
    "duration": 9,
    "start_time": "2024-05-17T18:59:10.792Z"
   },
   {
    "duration": 1362,
    "start_time": "2024-05-17T18:59:33.342Z"
   },
   {
    "duration": 3108,
    "start_time": "2024-05-17T18:59:34.708Z"
   },
   {
    "duration": 395,
    "start_time": "2024-05-17T18:59:37.818Z"
   },
   {
    "duration": 7,
    "start_time": "2024-05-17T18:59:38.218Z"
   },
   {
    "duration": 152,
    "start_time": "2024-05-17T18:59:38.230Z"
   },
   {
    "duration": 135,
    "start_time": "2024-05-17T18:59:38.384Z"
   },
   {
    "duration": 127,
    "start_time": "2024-05-17T18:59:38.522Z"
   },
   {
    "duration": 7,
    "start_time": "2024-05-17T18:59:38.652Z"
   },
   {
    "duration": 58,
    "start_time": "2024-05-17T18:59:38.662Z"
   },
   {
    "duration": 100,
    "start_time": "2024-05-17T18:59:38.730Z"
   },
   {
    "duration": 104,
    "start_time": "2024-05-17T18:59:38.915Z"
   },
   {
    "duration": 5,
    "start_time": "2024-05-17T18:59:39.024Z"
   },
   {
    "duration": 6,
    "start_time": "2024-05-17T18:59:39.032Z"
   },
   {
    "duration": 12,
    "start_time": "2024-05-17T18:59:39.110Z"
   },
   {
    "duration": 84,
    "start_time": "2024-05-17T18:59:39.125Z"
   },
   {
    "duration": 10,
    "start_time": "2024-05-17T18:59:39.212Z"
   },
   {
    "duration": 9,
    "start_time": "2024-05-17T18:59:39.225Z"
   },
   {
    "duration": 172,
    "start_time": "2024-05-17T18:59:39.237Z"
   },
   {
    "duration": 112,
    "start_time": "2024-05-17T18:59:39.413Z"
   },
   {
    "duration": 193,
    "start_time": "2024-05-17T18:59:39.528Z"
   },
   {
    "duration": 5,
    "start_time": "2024-05-17T18:59:39.723Z"
   },
   {
    "duration": 81,
    "start_time": "2024-05-17T18:59:39.731Z"
   },
   {
    "duration": 732,
    "start_time": "2024-05-17T18:59:39.815Z"
   },
   {
    "duration": 688,
    "start_time": "2024-05-17T18:59:40.550Z"
   },
   {
    "duration": 682,
    "start_time": "2024-05-17T18:59:41.241Z"
   },
   {
    "duration": 1227,
    "start_time": "2024-05-17T19:12:44.627Z"
   },
   {
    "duration": 3012,
    "start_time": "2024-05-17T19:12:45.857Z"
   },
   {
    "duration": 367,
    "start_time": "2024-05-17T19:12:48.872Z"
   },
   {
    "duration": 6,
    "start_time": "2024-05-17T19:12:49.244Z"
   },
   {
    "duration": 142,
    "start_time": "2024-05-17T19:12:49.253Z"
   },
   {
    "duration": 121,
    "start_time": "2024-05-17T19:12:49.400Z"
   },
   {
    "duration": 122,
    "start_time": "2024-05-17T19:12:49.524Z"
   },
   {
    "duration": 7,
    "start_time": "2024-05-17T19:12:49.649Z"
   },
   {
    "duration": 57,
    "start_time": "2024-05-17T19:12:49.660Z"
   },
   {
    "duration": 114,
    "start_time": "2024-05-17T19:12:49.723Z"
   },
   {
    "duration": 106,
    "start_time": "2024-05-17T19:12:49.910Z"
   },
   {
    "duration": 4,
    "start_time": "2024-05-17T19:12:50.019Z"
   },
   {
    "duration": 9,
    "start_time": "2024-05-17T19:12:50.026Z"
   },
   {
    "duration": 14,
    "start_time": "2024-05-17T19:12:50.113Z"
   },
   {
    "duration": 10,
    "start_time": "2024-05-17T19:12:50.208Z"
   },
   {
    "duration": 10,
    "start_time": "2024-05-17T19:12:50.222Z"
   },
   {
    "duration": 8,
    "start_time": "2024-05-17T19:12:50.235Z"
   },
   {
    "duration": 163,
    "start_time": "2024-05-17T19:12:50.246Z"
   },
   {
    "duration": 108,
    "start_time": "2024-05-17T19:12:50.413Z"
   },
   {
    "duration": 192,
    "start_time": "2024-05-17T19:12:50.524Z"
   },
   {
    "duration": 4,
    "start_time": "2024-05-17T19:12:50.718Z"
   },
   {
    "duration": 84,
    "start_time": "2024-05-17T19:12:50.725Z"
   },
   {
    "duration": 729,
    "start_time": "2024-05-17T19:12:50.812Z"
   },
   {
    "duration": 724,
    "start_time": "2024-05-17T19:12:51.544Z"
   },
   {
    "duration": 688,
    "start_time": "2024-05-17T19:12:52.271Z"
   },
   {
    "duration": 1263,
    "start_time": "2024-05-19T16:09:15.453Z"
   },
   {
    "duration": 617,
    "start_time": "2024-05-19T16:09:17.218Z"
   },
   {
    "duration": 6,
    "start_time": "2024-05-19T16:09:18.029Z"
   },
   {
    "duration": 126,
    "start_time": "2024-05-19T16:09:18.197Z"
   },
   {
    "duration": 115,
    "start_time": "2024-05-19T16:09:18.576Z"
   },
   {
    "duration": 116,
    "start_time": "2024-05-19T16:09:19.166Z"
   },
   {
    "duration": 7,
    "start_time": "2024-05-19T16:09:19.578Z"
   },
   {
    "duration": 38,
    "start_time": "2024-05-19T16:09:19.752Z"
   },
   {
    "duration": 37,
    "start_time": "2024-05-19T16:09:19.914Z"
   },
   {
    "duration": 47,
    "start_time": "2024-05-19T16:09:20.110Z"
   },
   {
    "duration": 8,
    "start_time": "2024-05-19T16:09:21.260Z"
   },
   {
    "duration": 6,
    "start_time": "2024-05-19T16:09:21.423Z"
   },
   {
    "duration": 14,
    "start_time": "2024-05-19T16:09:21.509Z"
   },
   {
    "duration": 13,
    "start_time": "2024-05-19T16:09:21.676Z"
   },
   {
    "duration": 13,
    "start_time": "2024-05-19T16:09:21.851Z"
   },
   {
    "duration": 8,
    "start_time": "2024-05-19T16:09:25.255Z"
   },
   {
    "duration": 190,
    "start_time": "2024-05-19T16:09:25.420Z"
   },
   {
    "duration": 117,
    "start_time": "2024-05-19T16:09:26.526Z"
   },
   {
    "duration": 221,
    "start_time": "2024-05-19T16:09:26.902Z"
   },
   {
    "duration": 5,
    "start_time": "2024-05-19T16:09:42.535Z"
   },
   {
    "duration": 11,
    "start_time": "2024-05-19T16:09:42.794Z"
   },
   {
    "duration": 739,
    "start_time": "2024-05-19T16:09:43.825Z"
   },
   {
    "duration": 767,
    "start_time": "2024-05-19T16:09:44.569Z"
   },
   {
    "duration": 731,
    "start_time": "2024-05-19T16:09:45.340Z"
   },
   {
    "duration": 6,
    "start_time": "2024-05-19T16:16:57.197Z"
   },
   {
    "duration": 1242,
    "start_time": "2024-05-19T17:49:23.346Z"
   },
   {
    "duration": 2951,
    "start_time": "2024-05-19T17:49:24.592Z"
   },
   {
    "duration": 527,
    "start_time": "2024-05-19T17:49:27.546Z"
   },
   {
    "duration": 7,
    "start_time": "2024-05-19T17:49:28.079Z"
   },
   {
    "duration": 133,
    "start_time": "2024-05-19T17:49:28.093Z"
   },
   {
    "duration": 136,
    "start_time": "2024-05-19T17:49:28.229Z"
   },
   {
    "duration": 169,
    "start_time": "2024-05-19T17:49:28.372Z"
   },
   {
    "duration": 10,
    "start_time": "2024-05-19T17:49:28.544Z"
   },
   {
    "duration": 60,
    "start_time": "2024-05-19T17:49:28.561Z"
   },
   {
    "duration": 108,
    "start_time": "2024-05-19T17:49:28.626Z"
   },
   {
    "duration": 181,
    "start_time": "2024-05-19T17:49:28.737Z"
   },
   {
    "duration": 7,
    "start_time": "2024-05-19T17:49:28.921Z"
   },
   {
    "duration": 8,
    "start_time": "2024-05-19T17:49:28.931Z"
   },
   {
    "duration": 85,
    "start_time": "2024-05-19T17:49:28.951Z"
   },
   {
    "duration": 77,
    "start_time": "2024-05-19T17:49:29.040Z"
   },
   {
    "duration": 14,
    "start_time": "2024-05-19T17:49:29.120Z"
   },
   {
    "duration": 9,
    "start_time": "2024-05-19T17:49:29.138Z"
   },
   {
    "duration": 1056,
    "start_time": "2024-05-19T17:49:29.151Z"
   },
   {
    "duration": 0,
    "start_time": "2024-05-19T17:49:30.213Z"
   },
   {
    "duration": 0,
    "start_time": "2024-05-19T17:49:30.216Z"
   },
   {
    "duration": 0,
    "start_time": "2024-05-19T17:49:30.218Z"
   },
   {
    "duration": 0,
    "start_time": "2024-05-19T17:49:30.220Z"
   },
   {
    "duration": 0,
    "start_time": "2024-05-19T17:49:30.222Z"
   },
   {
    "duration": 0,
    "start_time": "2024-05-19T17:49:30.224Z"
   },
   {
    "duration": 0,
    "start_time": "2024-05-19T17:49:30.226Z"
   },
   {
    "duration": 7,
    "start_time": "2024-05-19T17:51:02.992Z"
   },
   {
    "duration": 89,
    "start_time": "2024-05-19T17:51:08.928Z"
   },
   {
    "duration": 7,
    "start_time": "2024-05-19T17:51:21.574Z"
   },
   {
    "duration": 335,
    "start_time": "2024-05-19T17:51:23.955Z"
   },
   {
    "duration": 7,
    "start_time": "2024-05-19T17:51:45.287Z"
   },
   {
    "duration": 1197,
    "start_time": "2024-05-19T17:51:47.331Z"
   },
   {
    "duration": 7,
    "start_time": "2024-05-19T17:54:56.376Z"
   },
   {
    "duration": 10,
    "start_time": "2024-05-19T17:55:11.429Z"
   },
   {
    "duration": 61,
    "start_time": "2024-05-19T17:55:14.361Z"
   },
   {
    "duration": 11,
    "start_time": "2024-05-19T17:55:23.123Z"
   },
   {
    "duration": 181,
    "start_time": "2024-05-19T17:55:25.732Z"
   },
   {
    "duration": 171,
    "start_time": "2024-05-19T17:58:20.446Z"
   },
   {
    "duration": 154,
    "start_time": "2024-05-19T17:58:24.671Z"
   },
   {
    "duration": 8,
    "start_time": "2024-05-19T17:59:18.040Z"
   },
   {
    "duration": 747,
    "start_time": "2024-05-19T17:59:21.319Z"
   },
   {
    "duration": 731,
    "start_time": "2024-05-19T17:59:24.567Z"
   },
   {
    "duration": 717,
    "start_time": "2024-05-19T17:59:27.323Z"
   },
   {
    "duration": 9,
    "start_time": "2024-05-19T18:43:20.401Z"
   },
   {
    "duration": 783,
    "start_time": "2024-05-19T18:43:25.814Z"
   },
   {
    "duration": 8,
    "start_time": "2024-05-19T18:51:28.046Z"
   },
   {
    "duration": 703,
    "start_time": "2024-05-19T18:51:30.597Z"
   },
   {
    "duration": 12,
    "start_time": "2024-05-19T18:52:04.572Z"
   },
   {
    "duration": 691,
    "start_time": "2024-05-19T18:52:08.113Z"
   },
   {
    "duration": 11,
    "start_time": "2024-05-19T18:52:10.493Z"
   },
   {
    "duration": 732,
    "start_time": "2024-05-19T18:52:12.547Z"
   },
   {
    "duration": 10,
    "start_time": "2024-05-19T18:52:53.045Z"
   },
   {
    "duration": 9,
    "start_time": "2024-05-19T18:55:24.509Z"
   },
   {
    "duration": 690,
    "start_time": "2024-05-19T18:55:27.964Z"
   },
   {
    "duration": 691,
    "start_time": "2024-05-19T18:56:08.545Z"
   },
   {
    "duration": 726,
    "start_time": "2024-05-19T18:56:11.278Z"
   },
   {
    "duration": 65,
    "start_time": "2024-05-19T18:57:39.455Z"
   },
   {
    "duration": 133,
    "start_time": "2024-05-19T18:57:51.881Z"
   },
   {
    "duration": 181,
    "start_time": "2024-05-19T18:58:07.834Z"
   },
   {
    "duration": 60,
    "start_time": "2024-05-19T18:58:12.860Z"
   },
   {
    "duration": 13,
    "start_time": "2024-05-19T19:03:18.466Z"
   },
   {
    "duration": 758,
    "start_time": "2024-05-19T19:03:22.400Z"
   },
   {
    "duration": 702,
    "start_time": "2024-05-19T19:03:25.996Z"
   },
   {
    "duration": 709,
    "start_time": "2024-05-19T19:03:29.499Z"
   },
   {
    "duration": 7,
    "start_time": "2024-05-19T19:08:15.105Z"
   },
   {
    "duration": 679,
    "start_time": "2024-05-19T19:08:19.444Z"
   },
   {
    "duration": 672,
    "start_time": "2024-05-19T19:08:37.468Z"
   },
   {
    "duration": 678,
    "start_time": "2024-05-19T19:08:40.534Z"
   },
   {
    "duration": 9,
    "start_time": "2024-05-19T19:09:07.435Z"
   },
   {
    "duration": 8,
    "start_time": "2024-05-19T19:09:13.524Z"
   },
   {
    "duration": 673,
    "start_time": "2024-05-19T19:09:16.595Z"
   },
   {
    "duration": 676,
    "start_time": "2024-05-19T19:09:21.038Z"
   },
   {
    "duration": 678,
    "start_time": "2024-05-19T19:09:23.869Z"
   },
   {
    "duration": 686,
    "start_time": "2024-05-19T19:11:17.520Z"
   },
   {
    "duration": 7,
    "start_time": "2024-05-19T19:11:27.383Z"
   },
   {
    "duration": 686,
    "start_time": "2024-05-19T19:12:14.698Z"
   },
   {
    "duration": 675,
    "start_time": "2024-05-19T19:12:18.965Z"
   },
   {
    "duration": 106,
    "start_time": "2024-05-19T19:14:05.111Z"
   },
   {
    "duration": 94,
    "start_time": "2024-05-19T19:14:07.924Z"
   },
   {
    "duration": 9,
    "start_time": "2024-05-19T19:14:56.467Z"
   },
   {
    "duration": 116,
    "start_time": "2024-05-19T19:14:58.603Z"
   },
   {
    "duration": 65,
    "start_time": "2024-05-19T19:15:02.052Z"
   },
   {
    "duration": 141,
    "start_time": "2024-05-19T19:15:08.778Z"
   },
   {
    "duration": 1151,
    "start_time": "2024-05-19T19:16:05.674Z"
   },
   {
    "duration": 3002,
    "start_time": "2024-05-19T19:16:06.828Z"
   },
   {
    "duration": 361,
    "start_time": "2024-05-19T19:16:09.832Z"
   },
   {
    "duration": 6,
    "start_time": "2024-05-19T19:16:10.196Z"
   },
   {
    "duration": 144,
    "start_time": "2024-05-19T19:16:10.213Z"
   },
   {
    "duration": 135,
    "start_time": "2024-05-19T19:16:10.360Z"
   },
   {
    "duration": 137,
    "start_time": "2024-05-19T19:16:10.498Z"
   },
   {
    "duration": 7,
    "start_time": "2024-05-19T19:16:10.638Z"
   },
   {
    "duration": 26,
    "start_time": "2024-05-19T19:16:10.648Z"
   },
   {
    "duration": 99,
    "start_time": "2024-05-19T19:16:10.715Z"
   },
   {
    "duration": 103,
    "start_time": "2024-05-19T19:16:10.818Z"
   },
   {
    "duration": 4,
    "start_time": "2024-05-19T19:16:10.925Z"
   },
   {
    "duration": 80,
    "start_time": "2024-05-19T19:16:10.932Z"
   },
   {
    "duration": 11,
    "start_time": "2024-05-19T19:16:11.016Z"
   },
   {
    "duration": 83,
    "start_time": "2024-05-19T19:16:11.030Z"
   },
   {
    "duration": 10,
    "start_time": "2024-05-19T19:16:11.116Z"
   },
   {
    "duration": 8,
    "start_time": "2024-05-19T19:16:11.130Z"
   },
   {
    "duration": 172,
    "start_time": "2024-05-19T19:16:11.141Z"
   },
   {
    "duration": 117,
    "start_time": "2024-05-19T19:16:11.316Z"
   },
   {
    "duration": 115,
    "start_time": "2024-05-19T19:16:11.512Z"
   },
   {
    "duration": 5,
    "start_time": "2024-05-19T19:16:11.630Z"
   },
   {
    "duration": 9,
    "start_time": "2024-05-19T19:16:11.712Z"
   },
   {
    "duration": 704,
    "start_time": "2024-05-19T19:16:11.724Z"
   },
   {
    "duration": 718,
    "start_time": "2024-05-19T19:16:12.431Z"
   },
   {
    "duration": 752,
    "start_time": "2024-05-19T19:16:13.152Z"
   },
   {
    "duration": 15,
    "start_time": "2024-05-20T01:24:59.767Z"
   },
   {
    "duration": 7,
    "start_time": "2024-05-20T01:25:05.399Z"
   }
  ],
  "kernelspec": {
   "display_name": "Python 3 (ipykernel)",
   "language": "python",
   "name": "python3"
  },
  "language_info": {
   "codemirror_mode": {
    "name": "ipython",
    "version": 3
   },
   "file_extension": ".py",
   "mimetype": "text/x-python",
   "name": "python",
   "nbconvert_exporter": "python",
   "pygments_lexer": "ipython3",
   "version": "3.8.10"
  },
  "toc": {
   "base_numbering": 1,
   "nav_menu": {},
   "number_sections": true,
   "sideBar": true,
   "skip_h1_title": true,
   "title_cell": "Table of Contents",
   "title_sidebar": "Contents",
   "toc_cell": false,
   "toc_position": {
    "height": "calc(100% - 180px)",
    "left": "10px",
    "top": "150px",
    "width": "165px"
   },
   "toc_section_display": true,
   "toc_window_display": false
  }
 },
 "nbformat": 4,
 "nbformat_minor": 4
}
